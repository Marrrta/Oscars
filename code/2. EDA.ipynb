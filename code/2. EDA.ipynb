{
 "cells": [
  {
   "cell_type": "code",
   "execution_count": 1,
   "metadata": {},
   "outputs": [],
   "source": [
    "import pandas as pd\n",
    "import numpy as np\n",
    "import seaborn as sns\n",
    "import matplotlib.pyplot as plt\n",
    "from matplotlib.ticker import FormatStrFormatter\n",
    "from matplotlib.colors import LinearSegmentedColormap\n",
    "import matplotlib.ticker as mtick\n",
    "import pickle\n",
    "import re\n",
    "from collections import Counter\n",
    "\n",
    "from ipywidgets import *\n",
    "from IPython.display import display\n",
    "import plotly.graph_objects as go\n",
    "\n",
    "from sklearn.decomposition import PCA\n",
    "\n",
    "%config InlineBackend.figure_format = 'retina'"
   ]
  },
  {
   "cell_type": "markdown",
   "metadata": {},
   "source": [
    "#### _This notebook was used for exploratory analysis of all data, including: names, principals, titles, movies, and Academy Awards._"
   ]
  },
  {
   "cell_type": "markdown",
   "metadata": {},
   "source": [
    "***\n",
    "### Step 0: Setup"
   ]
  },
  {
   "cell_type": "markdown",
   "metadata": {},
   "source": [
    "#### Customized Colormap and Color Palette"
   ]
  },
  {
   "cell_type": "code",
   "execution_count": 2,
   "metadata": {},
   "outputs": [],
   "source": [
    "colors_ext = ['#f5edd3', '#ecddab', '#e4cd82', '#dbbd5a', '#d2ad32', '#ae8e25', '#866d1c', '#5e4c14', '#352b0b']  #shades of \"gold\", from lightest to darkest (with help from icolorpalette.com)\n",
    "name = 'golds_ext'\n",
    "golds_ext = LinearSegmentedColormap.from_list(name, colors_ext, N=100)\n",
    "\n",
    "colors = ['#dbbd5a', '#d2ad32', '#ae8e25']  #shades of \"gold\", from lightest to darkest (with help from icolorpalette.com)\n",
    "cmap_name_ = 'golds'\n",
    "golds = LinearSegmentedColormap.from_list(cmap_name_, colors, N=100)\n",
    "\n",
    "Golds = sns.color_palette(colors)\n",
    "Golds_ext = sns.color_palette(colors_ext)"
   ]
  },
  {
   "cell_type": "markdown",
   "metadata": {},
   "source": [
    "#### Reading in datasets"
   ]
  },
  {
   "cell_type": "code",
   "execution_count": 3,
   "metadata": {},
   "outputs": [],
   "source": [
    "name_basics = pd.read_csv('../data/name_basics_ce.csv')\n",
    "title_ratings = pd.read_csv('../data/title.ratings.tsv', delimiter = '\\t', index_col='tconst')\n",
    "title_basics = pd.read_csv('../data/title_basics_c.csv', index_col = 'tconst')\n",
    "title_principals = pd.read_csv('../data/title_principals_ce.csv', low_memory=True)\n",
    "movies = pd.read_csv('../data/movies_1990_2020_with_detail_oscars_complete.csv', index_col= 'tconst', low_memory=False)"
   ]
  },
  {
   "cell_type": "markdown",
   "metadata": {},
   "source": [
    "***\n",
    "### Step 1: Analysis of names data (1910-2020)¶"
   ]
  },
  {
   "cell_type": "code",
   "execution_count": 4,
   "metadata": {},
   "outputs": [],
   "source": [
    "professions = []\n",
    "for i in range(len(name_basics)):\n",
    "    if type(name_basics['primaryProfession'][i]) == str:\n",
    "        for j in range(name_basics['primaryProfession'][i].count(\",\")+1):\n",
    "            professions.append(name_basics['primaryProfession'][i].split(\",\")[j])"
   ]
  },
  {
   "cell_type": "code",
   "execution_count": 5,
   "metadata": {},
   "outputs": [
    {
     "name": "stdout",
     "output_type": "stream",
     "text": [
      "Profession \"actor\" accounts for 33.96% of all names in the dataset.\n",
      "The top 1 professions account for 33.96% of all names in the dataset.\n",
      "\n",
      "Profession \"miscellaneous\" accounts for 9.36% of all names in the dataset.\n",
      "The top 2 professions account for 43.32% of all names in the dataset.\n",
      "\n",
      "Profession \"producer\" accounts for 7.95% of all names in the dataset.\n",
      "The top 3 professions account for 51.27% of all names in the dataset.\n",
      "\n",
      "Profession \"writer\" accounts for 6.02% of all names in the dataset.\n",
      "The top 4 professions account for 57.29% of all names in the dataset.\n",
      "\n",
      "Profession \"camera_department\" accounts for 5.45% of all names in the dataset.\n",
      "The top 5 professions account for 62.739999999999995% of all names in the dataset.\n",
      "\n",
      "Profession \"director\" accounts for 4.91% of all names in the dataset.\n",
      "The top 6 professions account for 67.64% of all names in the dataset.\n",
      "\n",
      "Profession \"art_department\" accounts for 3.17% of all names in the dataset.\n",
      "The top 7 professions account for 70.82000000000001% of all names in the dataset.\n",
      "\n",
      "Profession \"sound_department\" accounts for 2.73% of all names in the dataset.\n",
      "The top 8 professions account for 73.55000000000001% of all names in the dataset.\n",
      "\n",
      "Profession \"cinematographer\" accounts for 2.5700000000000003% of all names in the dataset.\n",
      "The top 9 professions account for 76.12% of all names in the dataset.\n",
      "\n",
      "Profession \"editor\" accounts for 2.41% of all names in the dataset.\n",
      "The top 10 professions account for 78.53% of all names in the dataset.\n",
      "\n"
     ]
    }
   ],
   "source": [
    "ctr_prof = Counter(professions)\n",
    "cnts = []\n",
    "for i in range(10):\n",
    "    prof, cnt = ctr_prof.most_common(10)[i]\n",
    "    cnts.append(cnt)\n",
    "    print(f'Profession \"{prof}\" accounts for {round(cnt/sum(ctr_prof.values()),4)*100}% of all names in the dataset.')\n",
    "    print(f'The top {i+1} professions account for {round(sum(cnts)/sum(ctr_prof.values()),4)*100}% of all names in the dataset.\\n')"
   ]
  },
  {
   "cell_type": "code",
   "execution_count": 6,
   "metadata": {},
   "outputs": [],
   "source": [
    "top_twenty_prof = [prof for prof, cnt in ctr_prof.most_common(20)]"
   ]
  },
  {
   "cell_type": "code",
   "execution_count": null,
   "metadata": {},
   "outputs": [],
   "source": [
    "top_twenty_m_f = [{'profession': profession, \n",
    "                  'M': len(name_basics[(name_basics['gender']== 'M') & (name_basics['primaryProfession'].str.contains(profession))]),\n",
    "                  'F': len(name_basics[(name_basics['gender']== 'F') & (name_basics['primaryProfession'].str.contains(profession))])}\n",
    "                 for profession in top_twenty_prof]"
   ]
  },
  {
   "cell_type": "code",
   "execution_count": null,
   "metadata": {},
   "outputs": [],
   "source": [
    "top_twenty_m_f"
   ]
  },
  {
   "cell_type": "code",
   "execution_count": null,
   "metadata": {},
   "outputs": [],
   "source": [
    "top_twenty_m_f_df = pd.DataFrame(top_twenty_m_f)\n",
    "top_twenty_m_f_df['M_perc'] = top_twenty_m_f_df['M'] / (top_twenty_m_f_df['M'] + top_twenty_m_f_df['F'])\n",
    "top_twenty_m_f_df['F_perc'] = top_twenty_m_f_df['F'] / (top_twenty_m_f_df['M'] + top_twenty_m_f_df['F'])"
   ]
  },
  {
   "cell_type": "code",
   "execution_count": null,
   "metadata": {},
   "outputs": [],
   "source": [
    "top_twenty_m_f_df.head()"
   ]
  },
  {
   "cell_type": "code",
   "execution_count": null,
   "metadata": {},
   "outputs": [],
   "source": [
    "pal = sns.color_palette(Golds)\n",
    "pal.as_hex()"
   ]
  },
  {
   "cell_type": "code",
   "execution_count": null,
   "metadata": {},
   "outputs": [],
   "source": [
    "fig = plt.figure(figsize = (17,7), facecolor = '#1d1d1d', edgecolor = '#1d1d1d')\n",
    "plt.title('Gender balance across professions / departments', fontsize=20, color='#dfc56e', pad=20)\n",
    "\n",
    "plt.bar(top_twenty_m_f_df['profession'], top_twenty_m_f_df['M_perc'], color = '#ae8e25', alpha = 1, label = 'male professionals')\n",
    "plt.bar(top_twenty_m_f_df['profession'], top_twenty_m_f_df['F_perc'], bottom = top_twenty_m_f_df['M_perc'], color = '#dbbd5a', alpha = 1, label = \"female professionals\")\n",
    "plt.xticks(rotation=90, fontsize=11, color='#ebdaa4')\n",
    "plt.gca().set_yticklabels(['{:.0f}%'.format(x*100) for x in plt.gca().get_yticks()])\n",
    "plt.yticks(fontsize=11, color='#ebdaa4')\n",
    "plt.legend()\n",
    "\n",
    "plt.gca().spines['top'].set_visible(False)\n",
    "plt.gca().spines['right'].set_visible(False)\n",
    "plt.gca().spines['bottom'].set_visible(False)\n",
    "plt.gca().spines['left'].set_visible(False)\n",
    "plt.gca().set_facecolor('#1d1d1d')\n",
    "plt.tight_layout();\n",
    "\n",
    "plt.savefig('../visualizations/gndr_blnc_cat.png',facecolor=fig.get_facecolor(), edgecolor='none')"
   ]
  },
  {
   "cell_type": "markdown",
   "metadata": {},
   "source": [
    "***\n",
    "### Step 2: Analysis of title ratings (1910-2020)¶"
   ]
  },
  {
   "cell_type": "code",
   "execution_count": null,
   "metadata": {},
   "outputs": [],
   "source": [
    "title_ratings.head()"
   ]
  },
  {
   "cell_type": "code",
   "execution_count": null,
   "metadata": {
    "scrolled": true
   },
   "outputs": [],
   "source": [
    "plt.figure(figsize = (12,5))\n",
    "plt.title('Average ratings of all movies (1910-2020)')\n",
    "sns.distplot(title_ratings['averageRating'], bins = 30, color = '#dbbd5a', hist_kws=dict(alpha=1, linewidth = 1, edgecolor=\"k\", ));"
   ]
  },
  {
   "cell_type": "markdown",
   "metadata": {},
   "source": [
    "_Exporting a dictionary of ratings per title (tconst) to easily integrate average rating with the data (post cleaning and engineering, in EDA). This information will not be used in predicting Oscars because most of the ratings are likely to have been collected long after the awards were decided, and may be influenced by the Academy decisions._"
   ]
  },
  {
   "cell_type": "code",
   "execution_count": null,
   "metadata": {},
   "outputs": [],
   "source": [
    "rating = {tconst: rating for tconst, rating in zip(title_ratings.index, title_ratings['averageRating'])}\n",
    "pickle.dump(rating, open('../pickles/rating.p', 'wb'))"
   ]
  },
  {
   "cell_type": "markdown",
   "metadata": {},
   "source": [
    "***\n",
    "### Step 2: Analysis of titles data (1910-2020)¶"
   ]
  },
  {
   "cell_type": "code",
   "execution_count": null,
   "metadata": {},
   "outputs": [],
   "source": [
    "plt.figure(figsize = (17,5),  facecolor = '#1d1d1d', edgecolor = '#1d1d1d')\n",
    "sns.countplot(data = title_basics, x = 'startYear', color = 'gold') \n",
    "plt.title('Count of titles produced by year', fontsize=20, color='#dfc56e', pad=20)\n",
    "plt.xlabel('year')\n",
    "plt.xticks(rotation = 90, fontsize = 7, color='#ebdaa4')\n",
    "plt.yticks(fontsize=10, color='#ebdaa4')\n",
    "plt.xlabel('year', fontsize=11, color='#ebdaa4')\n",
    "plt.ylabel('titles (incl. movies, series, TV specials, etc.)', fontsize=11, color='#ebdaa4')\n",
    "plt.gca().spines['top'].set_visible(False)\n",
    "plt.gca().spines['right'].set_visible(False)\n",
    "plt.gca().spines['bottom'].set_visible(False)\n",
    "plt.gca().spines['left'].set_visible(False)\n",
    "plt.gca().set_facecolor('#1d1d1d')\n",
    "plt.tight_layout();\n",
    "plt.xticks(rotation = 90, fontsize = 7);"
   ]
  },
  {
   "cell_type": "code",
   "execution_count": null,
   "metadata": {},
   "outputs": [],
   "source": [
    "title_basics['titleType'].value_counts()"
   ]
  },
  {
   "cell_type": "code",
   "execution_count": null,
   "metadata": {},
   "outputs": [],
   "source": [
    "movie_titles = title_basics[title_basics['titleType']=='movie']"
   ]
  },
  {
   "cell_type": "code",
   "execution_count": null,
   "metadata": {},
   "outputs": [],
   "source": [
    "plt.figure(figsize = (17,7), facecolor = '#1d1d1d', edgecolor = '#1d1d1d')\n",
    "sns.countplot(data = movie_titles, x = 'startYear', color = '#c29e29')\n",
    "plt.title('Number of movies produced worldwide, by year', fontsize=20, color='#dfc56e', pad=20)\n",
    "plt.xticks(rotation = 90, fontsize = 7, color='#ebdaa4')\n",
    "plt.yticks(fontsize=10, color='#ebdaa4')\n",
    "plt.xlabel('year', fontsize=11, color='#ebdaa4')\n",
    "plt.ylabel('movies', fontsize=11, color='#ebdaa4')\n",
    "plt.gca().spines['top'].set_visible(False)\n",
    "plt.gca().spines['right'].set_visible(False)\n",
    "plt.gca().spines['bottom'].set_visible(False)\n",
    "plt.gca().spines['left'].set_visible(False)\n",
    "plt.gca().set_facecolor('#1d1d1d')\n",
    "plt.tight_layout();\n",
    "\n",
    "plt.savefig('../visualizations/mvs_yr.png',facecolor=fig.get_facecolor(), edgecolor='none')"
   ]
  },
  {
   "cell_type": "code",
   "execution_count": null,
   "metadata": {},
   "outputs": [],
   "source": [
    "print(f\"{len(title_basics[(title_basics['titleType']=='movie') & (title_basics['startYear'].between(1990, 1995))])} movies were made between 1990 and 1995.\")\n",
    "print(f\"{len(title_basics[(title_basics['titleType']=='movie') & (title_basics['startYear'].between(1995, 2000))])} movies were made between 1995 and 2000.\")\n",
    "print(f\"{len(title_basics[(title_basics['titleType']=='movie') & (title_basics['startYear'].between(2000, 2005))])} movies were made between 2000 and 2005.\")\n",
    "print(f\"{len(title_basics[(title_basics['titleType']=='movie') & (title_basics['startYear'].between(2005, 2010))])} movies were made between 2005 and 2010.\")\n",
    "print(f\"{len(title_basics[(title_basics['titleType']=='movie') & (title_basics['startYear'].between(2010, 2015))])} movies were made between 2010 and 2015.\")\n",
    "print(f\"{len(title_basics[(title_basics['titleType']=='movie') & (title_basics['startYear'].between(2015, 2020))])} movies were made between 2015 and 2020.\")"
   ]
  },
  {
   "cell_type": "markdown",
   "metadata": {},
   "source": [
    "***\n",
    "### Step 3: Analysis of principals data (1910-2020)¶"
   ]
  },
  {
   "cell_type": "code",
   "execution_count": null,
   "metadata": {},
   "outputs": [],
   "source": [
    "title_principals.drop([col for col in title_principals.columns if col[:3]=='Unn'], axis = 1, inplace= True)"
   ]
  },
  {
   "cell_type": "code",
   "execution_count": null,
   "metadata": {},
   "outputs": [],
   "source": [
    "title_principals['titleYear'] = title_principals['titleYear'].astype(int)"
   ]
  },
  {
   "cell_type": "code",
   "execution_count": null,
   "metadata": {},
   "outputs": [],
   "source": [
    "plt.figure(figsize = (17,7), facecolor = '#1d1d1d', edgecolor = '#1d1d1d')\n",
    "plt.title('Number of movies made each year (1910-2020)', fontsize=20, color='#dfc56e', pad=20)\n",
    "sns.countplot(data = title_principals[title_principals['category']=='director'], x = 'titleYear', dodge = False, color = '#dbbd5a', linewidth = 1, saturation = 1)\n",
    "plt.xticks(rotation = 90, fontsize = 7, color='#ebdaa4')\n",
    "plt.xlabel('year', fontsize=11, color='#ebdaa4')\n",
    "plt.yticks(fontsize=10, color='#ebdaa4')\n",
    "plt.gca().set_yticklabels(['{:.0f}'.format(x) for x in plt.gca().get_yticks()])\n",
    "plt.ylabel('movies', fontsize=11, color='#ebdaa4')\n",
    "plt.gca().spines['top'].set_visible(False)\n",
    "plt.gca().spines['right'].set_visible(False)\n",
    "plt.gca().spines['bottom'].set_visible(False)\n",
    "plt.gca().spines['left'].set_visible(False)\n",
    "plt.gca().set_facecolor('#1d1d1d')\n",
    "plt.tight_layout();\n",
    "\n",
    "plt.savefig('../visualizations/mvs_yr.png',facecolor=fig.get_facecolor(), edgecolor='none')"
   ]
  },
  {
   "cell_type": "code",
   "execution_count": null,
   "metadata": {},
   "outputs": [],
   "source": [
    "plt.figure(figsize = (17,7), facecolor = '#1d1d1d', edgecolor = '#1d1d1d')\n",
    "plt.title('Number of movies made each year, by gender of director', fontsize=20, color='#dfc56e', pad=20)\n",
    "sns.countplot(data = title_principals[title_principals['category']=='director'], x = 'titleYear', hue = 'gender', dodge = False,\n",
    "              palette= {'F': '#dbbd5a', 'M': '#ae8e25'}, linewidth = 1, saturation = 1)\n",
    "plt.xticks(rotation = 90, color='#ebdaa4')\n",
    "plt.xlabel('year', fontsize=11, color='#ebdaa4')\n",
    "plt.yticks(fontsize=10, color='#ebdaa4')\n",
    "plt.ylabel('movies', fontsize=11, color='#ebdaa4')\n",
    "plt.gca().spines['top'].set_visible(False)\n",
    "plt.gca().spines['right'].set_visible(False)\n",
    "plt.gca().spines['bottom'].set_visible(False)\n",
    "plt.gca().spines['left'].set_visible(False)\n",
    "plt.gca().set_facecolor('#1d1d1d')\n",
    "plt.tight_layout();\n",
    "\n",
    "plt.savefig('../visualizations/mvs_yr_gndr.png',facecolor=fig.get_facecolor(), edgecolor='none')"
   ]
  },
  {
   "cell_type": "code",
   "execution_count": null,
   "metadata": {},
   "outputs": [],
   "source": [
    "def titles_by_gender(category = 'director'):\n",
    "\n",
    "    cnt_by_cat_gen_yr = title_principals[title_principals['category']==category].groupby(['titleYear', 'gender'])['tconst'].count().reset_index()\n",
    "    cnt_by_cat_gen_yr_p = cnt_by_cat_gen_yr.pivot_table(values = 'tconst', index = 'titleYear', columns = 'gender').reset_index()\n",
    "    cnt_by_cat_gen_yr_p['F_prop'] = cnt_by_cat_gen_yr_p['F']/ (cnt_by_cat_gen_yr_p['F']+cnt_by_cat_gen_yr_p['M'])\n",
    "    cnt_by_cat_gen_yr_p['M_prop'] = cnt_by_cat_gen_yr_p['M']/ (cnt_by_cat_gen_yr_p['F']+cnt_by_cat_gen_yr_p['M'])\n",
    "\n",
    "    plt.figure(figsize = (17,7), facecolor = '#1d1d1d', edgecolor = '#1d1d1d')\n",
    "    plt.title('Proportion of movies made each year by female and male '+category+'s', fontsize=20, color='#dfc56e', pad=20)\n",
    "    plt.bar(cnt_by_cat_gen_yr_p['titleYear'], cnt_by_cat_gen_yr_p['F_prop'], color = '#dbbd5a', label = 'female '+category, width = 0.95)\n",
    "    plt.bar(cnt_by_cat_gen_yr_p['titleYear'], cnt_by_cat_gen_yr_p['M_prop'], bottom= cnt_by_cat_gen_yr_p['F_prop'], color = '#ae8e25', \n",
    "            label = 'male '+category, width = 0.95)\n",
    "    plt.gca().set_yticklabels(['{:.0f}%'.format(x*100) for x in plt.gca().get_yticks()])\n",
    "    plt.yticks(fontsize=11, color='#ebdaa4')\n",
    "    plt.xticks(fontsize=11, color='#ebdaa4')\n",
    "    plt.gca().spines['top'].set_visible(False)\n",
    "    plt.gca().spines['right'].set_visible(False)\n",
    "    plt.gca().spines['bottom'].set_visible(False)\n",
    "    plt.gca().spines['left'].set_visible(False)\n",
    "    plt.gca().set_facecolor('#1d1d1d')\n",
    "    plt.legend(loc = 'upper left')\n",
    "    plt.tight_layout();\n",
    "    \n",
    "mvs_yr_gndr_cat_yr = interact(titles_by_gender, category = ['actor', 'director', 'writer', 'producer', 'cinematographer',\n",
    "                                       'production_designer', 'composer', 'editor']);\n",
    "\n",
    "mvs_yr_gndr_cat_yr;\n",
    "\n",
    "#embed_minimal_html('../visualizations/mvs_yr_gndr_cat_yr.html', views = [mvs_yr_gndr_cat_yr], title = '% of movies with male / female principals, by year')\n",
    "\n",
    "#plt.savefig('../visualizations/mvs_yr_gndr_cat_yr.png', transparent = True)"
   ]
  },
  {
   "cell_type": "code",
   "execution_count": null,
   "metadata": {
    "scrolled": true
   },
   "outputs": [],
   "source": [
    "avg_age_by_gender_cat = title_principals.groupby(['category','gender'])['age'].mean().unstack()\n",
    "#avg_age_by_gender_cat"
   ]
  },
  {
   "cell_type": "code",
   "execution_count": null,
   "metadata": {},
   "outputs": [],
   "source": [
    "avg_age_by_gender_cat.plot(kind = 'bar', title = 'Average age of entertainment professionals, by gender and category', figsize = (17,7), cmap = golds, alpha = 1, edgecolor = '#1d1d1d');\n",
    "plt.title('Average age of entertainment professionals, by gender and category', fontsize=20, color='#dfc56e', pad=20)\n",
    "plt.xticks(fontsize=11, color='#ebdaa4')\n",
    "plt.yticks(fontsize=10, color='#ebdaa4')\n",
    "plt.ylabel('age', fontsize=11, color='#ebdaa4')\n",
    "plt.gca().spines['top'].set_visible(False)\n",
    "plt.gca().spines['right'].set_visible(False)\n",
    "plt.gca().spines['bottom'].set_visible(False)\n",
    "plt.gca().spines['left'].set_visible(False)\n",
    "plt.gca().set_facecolor('#1d1d1d')\n",
    "plt.legend(loc = 'upper left')\n",
    "plt.tight_layout();\n",
    "\n",
    "plt.savefig('../visualizations/avg_age_gndr_cat.png', facecolor= '#1d1d1d', edgecolor='none')"
   ]
  },
  {
   "cell_type": "markdown",
   "metadata": {},
   "source": [
    "**Observations:** For nearly all entertainment-related professions, the average female professional is younger than the average male professional.<br>While it's tempting to think that women are simply more talented and start being successful at an earlier age, it's more likely that this is a reflection of double standards in the industry."
   ]
  },
  {
   "cell_type": "code",
   "execution_count": null,
   "metadata": {
    "scrolled": true
   },
   "outputs": [],
   "source": [
    "def title_principals_by_gender_cat(year = 2010):\n",
    "    avg_age_by_gender_cat_yr = title_principals[title_principals['titleYear']==year].groupby(['category','gender'])['age'].mean().unstack()\n",
    "    fig = avg_age_by_gender_cat_yr.plot(kind = 'bar', figsize = (17,5), cmap = golds, alpha = 1);\n",
    "    fig.set_facecolor('#1d1d1d')\n",
    "    plt.title(f'Average age of entertainment professionals, by gender and category ({year})', fontsize=20, color='#dfc56e', pad=20)\n",
    "    plt.xticks(fontsize=11, color='#ebdaa4')\n",
    "    plt.yticks(fontsize=10, color='#ebdaa4')\n",
    "    plt.ylabel('age', fontsize=11, color='#ebdaa4')\n",
    "    plt.gca().set_facecolor('#1d1d1d')\n",
    "    plt.xlabel('')\n",
    "interact(title_principals_by_gender_cat, year = (2010,2020,1));\n",
    "\n",
    "plt.savefig('../visualizations/avg_age_gndr_cat_yr.png',facecolor=fig.get_facecolor(), edgecolor='none')"
   ]
  },
  {
   "cell_type": "code",
   "execution_count": null,
   "metadata": {},
   "outputs": [],
   "source": [
    "plt.figure(figsize = (17,7), facecolor = '#1d1d1d', edgecolor = '#1d1d1d')\n",
    "plt.title('Age distribution across movie professions (1910-2020)', fontsize=20, color='#dfc56e', pad=20)\n",
    "sns.violinplot(data = title_principals, x = 'category', y = 'age', hue = 'gender', split = True, scale= 'count', \n",
    "               palette= {'F': '#dbbd5a', 'M': '#ae8e25'}, linewidth = 1, saturation = 1, kws=dict(alpha=1, linewidth = 1, edgecolor=\"gold\")); \n",
    "\n",
    "plt.xticks(fontsize=11, color='#ebdaa4')\n",
    "plt.yticks(fontsize=10, color='#ebdaa4')\n",
    "plt.ylabel('age', fontsize=11, color='#ebdaa4')\n",
    "plt.xlabel('')\n",
    "plt.gca().spines['top'].set_visible(False)\n",
    "plt.gca().spines['right'].set_visible(False)\n",
    "plt.gca().spines['bottom'].set_visible(False)\n",
    "plt.gca().spines['left'].set_visible(False)\n",
    "plt.gca().set_facecolor('#1d1d1d')\n",
    "plt.legend(loc = 'upper left')\n",
    "plt.tight_layout();\n",
    "\n",
    "plt.savefig('../visualizations/avg_age_gndr_cat_vln.png',facecolor=fig.get_facecolor(), edgecolor='none')"
   ]
  },
  {
   "cell_type": "markdown",
   "metadata": {},
   "source": [
    "***\n",
    "### Step 4: Analysis of detailed data for movies made between 1990 and 2020"
   ]
  },
  {
   "cell_type": "code",
   "execution_count": null,
   "metadata": {},
   "outputs": [],
   "source": [
    "movies.tail(2)"
   ]
  },
  {
   "cell_type": "code",
   "execution_count": null,
   "metadata": {
    "scrolled": true
   },
   "outputs": [],
   "source": [
    "sns.distplot(movies['runtimeMinutes'], bins =25, color = '#dbbd5a', kde = False, hist = True, hist_kws=dict(alpha=1, linewidth = 1, edgecolor=\"k\"));"
   ]
  },
  {
   "cell_type": "code",
   "execution_count": null,
   "metadata": {},
   "outputs": [],
   "source": [
    "plt.figure(figsize = (20,5))\n",
    "plt.subplot(1,3,1)\n",
    "plt.title('Documentary runtime histogram')\n",
    "sns.distplot(movies[movies['Documentary']==1]['runtimeMinutes'], bins =25, color = '#dbbd5a', kde = False, hist = True, hist_kws=dict(alpha=1, linewidth = 1, edgecolor=\"k\"));\n",
    "plt.subplot(1,3,2)\n",
    "plt.title('Drama runtime histogram')\n",
    "sns.distplot(movies[movies['Drama']==1]['runtimeMinutes'], bins =25, color = '#dbbd5a', kde = False, hist = True, hist_kws=dict(alpha=1, linewidth = 1, edgecolor=\"k\"));\n",
    "plt.subplot(1,3,3)\n",
    "plt.title('Comedy runtime histogram')\n",
    "sns.distplot(movies[movies['Comedy']==1]['runtimeMinutes'], bins =25, color = '#dbbd5a', kde = False, hist = True, hist_kws=dict(alpha=1, linewidth = 1, edgecolor=\"k\"));"
   ]
  },
  {
   "cell_type": "code",
   "execution_count": null,
   "metadata": {},
   "outputs": [],
   "source": [
    "cnt_by_lang = movies.groupby('language')['titleType'].count().sort_values(ascending = False).reset_index().rename(columns = {'titleType': 'count'})"
   ]
  },
  {
   "cell_type": "code",
   "execution_count": null,
   "metadata": {},
   "outputs": [],
   "source": [
    "cnt_by_lang_pop = cnt_by_lang[cnt_by_lang['count']>=1000]"
   ]
  },
  {
   "cell_type": "code",
   "execution_count": null,
   "metadata": {},
   "outputs": [],
   "source": [
    "plt.figure(figsize = (10, 7), facecolor = '#1d1d1d', edgecolor = '#1d1d1d')\n",
    "fig = sns.barplot(data = cnt_by_lang_pop, x = 'count', y = 'language', orient = 'h', color = 'gold', saturation=1);\n",
    "plt.title('Number of movies made between 1990 and 2020, by language', fontsize=20, color='#dfc56e', pad=20)\n",
    "plt.xticks(fontsize=11, color='#ebdaa4')\n",
    "plt.yticks(fontsize=10, color='#ebdaa4')\n",
    "plt.ylabel('', fontsize=11, color='#ebdaa4')\n",
    "plt.xlabel('count of movies',fontsize=11, color='#ebdaa4')\n",
    "\n",
    "plt.gca().spines['top'].set_visible(False)\n",
    "plt.gca().spines['right'].set_visible(False)\n",
    "plt.gca().spines['bottom'].set_visible(False)\n",
    "plt.gca().spines['left'].set_visible(False)\n",
    "plt.gca().set_facecolor('#1d1d1d')\n",
    "plt.tight_layout();\n",
    "\n",
    "plt.savefig('../visualizations/mvs_lng.png',facecolor=fig.get_facecolor(), edgecolor='none')"
   ]
  },
  {
   "cell_type": "code",
   "execution_count": null,
   "metadata": {},
   "outputs": [],
   "source": [
    "from utils import list_uniques"
   ]
  },
  {
   "cell_type": "code",
   "execution_count": null,
   "metadata": {},
   "outputs": [],
   "source": [
    "def count_by_genre_yr(year):\n",
    "    count_by_genre = {}\n",
    "    for genre in unique_genres:\n",
    "        count_by_genre[genre] = movies[movies['startYear']==year][genre].sum()\n",
    "    return pd.DataFrame.from_dict(count_by_genre, orient = 'index', columns = ['count'])"
   ]
  },
  {
   "cell_type": "code",
   "execution_count": null,
   "metadata": {},
   "outputs": [],
   "source": [
    "def plot_interact(year = 2020):\n",
    "    plt.figure(figsize = (12,7), facecolor = '#1d1d1d', edgecolor = '#1d1d1d')\n",
    "    sns.barplot(data = count_by_genre_yr(year), x = count_by_genre_yr(year).index, y = 'count', palette= Golds)\n",
    "    plt.title(f'Number of movies made in {year}, by genre', fontsize=20, color='#dfc56e', pad=20)\n",
    "    plt.xticks(rotation = 90, fontsize=11, color='#ebdaa4')\n",
    "    plt.yticks(fontsize=11, color='#ebdaa4')\n",
    "    plt.ylim(0,5000)\n",
    "    plt.gca().spines['top'].set_visible(False)\n",
    "    plt.gca().spines['right'].set_visible(False)\n",
    "    plt.gca().spines['bottom'].set_visible(False)\n",
    "    plt.gca().spines['left'].set_visible(False)\n",
    "    plt.gca().set_facecolor('#1d1d1d')\n",
    "    plt.tight_layout();\n",
    "\n",
    "interact(plot_interact, year = (1990,2020,1));\n",
    "\n",
    "#plt.savefig('../visualizations/mvs_cat_yr.png',facecolor=fig.get_facecolor(), edgecolor='none')"
   ]
  },
  {
   "cell_type": "markdown",
   "metadata": {},
   "source": [
    "***\n",
    "### Step 5: Analysis of movies and artists nominated or awarded with an Oscar between 1990 and 2020"
   ]
  },
  {
   "cell_type": "code",
   "execution_count": null,
   "metadata": {},
   "outputs": [],
   "source": [
    "oscar_prodcos = pickle.load(open('../pickles/oscar_prodcos.p', 'rb'))"
   ]
  },
  {
   "cell_type": "code",
   "execution_count": null,
   "metadata": {},
   "outputs": [],
   "source": [
    "movies_by_prodco = {}\n",
    "oscars_by_prodco = {}\n",
    "for prodco in oscar_prodcos:\n",
    "    movies_by_prodco[prodco] = movies[prodco].sum()\n",
    "    oscars_by_prodco[prodco] = movies[(movies[prodco]==1) & (movies['Oscars']==1)]['Oscars'].sum()\n",
    "count_by_prodco_df = pd.DataFrame.from_dict(movies_by_prodco, orient = 'index', columns = ['movies'])\n",
    "count_by_prodco_df['oscar_movies'] = count_by_prodco_df.index.map(oscars_by_prodco)\n",
    "count_by_prodco_df['oscar_as_perc'] = count_by_prodco_df['oscar_movies'] / count_by_prodco_df['movies']"
   ]
  },
  {
   "cell_type": "code",
   "execution_count": null,
   "metadata": {},
   "outputs": [],
   "source": [
    "count_by_prodco_df"
   ]
  },
  {
   "cell_type": "code",
   "execution_count": null,
   "metadata": {},
   "outputs": [],
   "source": [
    "count_by_prodco_plt = count_by_prodco_df.drop(columns = ['oscar_as_perc']).unstack().reset_index().rename(columns = {'level_0': 'cat', 'level_1': 'production company', 0:'count'})"
   ]
  },
  {
   "cell_type": "code",
   "execution_count": null,
   "metadata": {},
   "outputs": [],
   "source": [
    "plt.figure(figsize = (18,8), facecolor = '#1d1d1d', edgecolor = '#1d1d1d')\n",
    "plt.subplot(2,1,1)\n",
    "\n",
    "sns.barplot(data = count_by_prodco_plt, x = 'production company', y = 'count', hue = 'cat',palette= Golds)\n",
    "plt.title(f'Number of movies / Oscar movies made by key production companies', fontsize=20, color='#dfc56e', pad=20)\n",
    "plt.xticks([])\n",
    "plt.xlabel('')\n",
    "plt.yticks(fontsize=10, color='#ebdaa4')\n",
    "plt.ylabel('count', fontsize=11, color='#ebdaa4')\n",
    "plt.gca().spines['top'].set_visible(False)\n",
    "plt.gca().spines['right'].set_visible(False)\n",
    "plt.gca().spines['bottom'].set_visible(False)\n",
    "plt.gca().spines['left'].set_visible(False)\n",
    "plt.gca().set_facecolor('#1d1d1d')\n",
    "plt.tight_layout();\n",
    "\n",
    "plt.subplot(2,1,2)\n",
    "sns.barplot(data = count_by_prodco_df, x = count_by_prodco_df.index, y = 'oscar_as_perc',palette= Golds)\n",
    "plt.title(f\"Oscar movies made by key production companies as % of all movies made by each company\", fontsize=20, color='#dfc56e', pad=20)\n",
    "plt.xticks(rotation = 90,fontsize=11, color='#ebdaa4')\n",
    "plt.gca().set_yticklabels(['{:.0f}%'.format(x*100) for x in plt.gca().get_yticks()])\n",
    "plt.yticks(fontsize=10, color='#ebdaa4')\n",
    "plt.ylabel('count', fontsize=11, color='#ebdaa4')\n",
    "plt.gca().spines['top'].set_visible(False)\n",
    "plt.gca().spines['right'].set_visible(False)\n",
    "plt.gca().spines['bottom'].set_visible(False)\n",
    "plt.gca().spines['left'].set_visible(False)\n",
    "plt.gca().set_facecolor('#1d1d1d')\n",
    "plt.tight_layout();\n",
    "\n",
    "plt.savefig('../visualizations/mvs_aa_prodco.png',facecolor=fig.get_facecolor(), edgecolor='none')"
   ]
  },
  {
   "cell_type": "markdown",
   "metadata": {},
   "source": [
    "**Note:** \"Oscar density\" in the two charts below is defined as \"number of individuals credited for movies which were previously nominated or won\". _Another interesting thing to look at would be a similar scatterplot but considering only nominations and awards won by this person (this would not count, e.g., actors whose names are listed for movies nominated for cinematography)"
   ]
  },
  {
   "cell_type": "code",
   "execution_count": null,
   "metadata": {},
   "outputs": [],
   "source": [
    "movies['o_wins_noms'] = movies['o_wins'] + movies['o_noms']"
   ]
  },
  {
   "cell_type": "code",
   "execution_count": null,
   "metadata": {},
   "outputs": [],
   "source": [
    "movies['prev_wins_noms'] = movies['prev_Oscar_wins_nm'] + movies['prev_Oscar_noms_nm']"
   ]
  },
  {
   "cell_type": "code",
   "execution_count": null,
   "metadata": {
    "scrolled": true
   },
   "outputs": [],
   "source": [
    "plt.figure(figsize = (18,9), facecolor = '#1d1d1d', edgecolor = '#1d1d1d')\n",
    "plt.suptitle('Oscar wins & nominations vs Oscar-density of cast and crew,\\nby movie (1995-2020)\\n\\n', fontsize=20, color='#dfc56e')\n",
    "plt.subplot(1,2,1)\n",
    "sns.scatterplot(movies[movies['startYear']>=1995]['prev_Oscars'], movies[movies['startYear']>=1995]['o_wins_noms'], marker = '*', s = 500, color = '#dbbd5a', alpha = 0.3)\n",
    "plt.xlabel('Number of previous Oscar productions involving cast of movie', fontsize=11, color='#ebdaa4')\n",
    "plt.xticks(fontsize=10, color='#ebdaa4')\n",
    "plt.yticks(fontsize=10, color='#ebdaa4')\n",
    "plt.ylabel('Oscars wons + nominations', fontsize=11, color='#ebdaa4')\n",
    "\n",
    "plt.gca().spines['top'].set_visible(False)\n",
    "plt.gca().spines['right'].set_visible(False)\n",
    "plt.gca().spines['bottom'].set_visible(False)\n",
    "plt.gca().spines['left'].set_visible(False)\n",
    "plt.gca().set_facecolor('#1d1d1d')\n",
    "plt.tight_layout();\n",
    "\n",
    "plt.subplot(1,2,2)\n",
    "#plt.title('Oscar wins & nominations vs Oscar-density of cast and crew,\\nby movie (1995-2020)', fontsize=20, color='#dfc56e', pad=20)\n",
    "sns.scatterplot(movies[movies['startYear']>=1995]['prev_wins_noms'], movies[movies['startYear']>=1995]['o_wins_noms'], marker = '*', s = 500, color = '#dbbd5a', alpha = 0.3)\n",
    "plt.xlabel('Number of previous Academy recognitions awarded to cast of movie', fontsize=11, color='#ebdaa4')\n",
    "plt.xticks(fontsize=10, color='#ebdaa4')\n",
    "plt.yticks(fontsize=10, color='#ebdaa4')\n",
    "plt.ylabel('Oscars wons + nominations', fontsize=11, color='#ebdaa4')\n",
    "plt.gca().spines['top'].set_visible(False)\n",
    "plt.gca().spines['right'].set_visible(False)\n",
    "plt.gca().spines['bottom'].set_visible(False)\n",
    "plt.gca().spines['left'].set_visible(False)\n",
    "plt.gca().set_facecolor('#1d1d1d')\n",
    "plt.tight_layout();\n",
    "\n",
    "plt.savefig('../visualizations/wins_noms_prev_nw.png',facecolor=fig.get_facecolor(), edgecolor='none')"
   ]
  },
  {
   "cell_type": "code",
   "execution_count": null,
   "metadata": {},
   "outputs": [],
   "source": [
    "nm_wins_noms = pickle.load(open('../pickles/nm_wins_noms.p', 'rb'))"
   ]
  },
  {
   "cell_type": "code",
   "execution_count": null,
   "metadata": {},
   "outputs": [],
   "source": [
    "nm_wins_noms.head(2)"
   ]
  },
  {
   "cell_type": "code",
   "execution_count": null,
   "metadata": {},
   "outputs": [],
   "source": [
    "subset = nm_wins_noms[(nm_wins_noms['perc_won']>= 0.4) & (nm_wins_noms['all_nominations']>= 5)]\n",
    "\n",
    "fig = plt.figure(figsize = (17,8), facecolor = '#1d1d1d', edgecolor = '#1d1d1d')\n",
    "fig.set_facecolor('#1d1d1d')\n",
    "plt.suptitle('Academy Sweethearts\\n', fontsize=20, color='#dfc56e')\n",
    "\n",
    "plt.subplot(1,3,1)\n",
    "plt.title('\\n\\nNominations received from 1990 to 2020', fontsize=16, color='#dfc56e', pad=20)\n",
    "subset.sort_values(['all_nominations'], ascending = False, inplace = True)\n",
    "sns.barplot(y = subset['name'], x = subset['all_nominations'], color = '#dbbd5a', orient='h', alpha = 0.3)\n",
    "sns.scatterplot(y = subset['name'], x = subset['all_nominations'], zorder=10, color='#dbbd5a', marker = '*', edgecolor='#6b5717' , s= 1000)\n",
    "plt.xticks(range(0,15,5), fontsize=8, color='#ebdaa4')\n",
    "plt.yticks(fontsize=11, color='#ebdaa4')\n",
    "plt.ylabel('')\n",
    "plt.gca().spines['top'].set_visible(False)\n",
    "plt.gca().spines['right'].set_visible(False)\n",
    "plt.gca().spines['bottom'].set_visible(False)\n",
    "plt.gca().spines['left'].set_visible(False)\n",
    "plt.gca().set_facecolor('#1d1d1d')\n",
    "\n",
    "plt.subplot(1,3,2)\n",
    "plt.title('Awards received from 1990 to 2020', fontsize=16, color='#dfc56e', pad=20)\n",
    "#subset.sort_values(['wins'], ascending = False, inplace = True)\n",
    "sns.barplot(y = subset['name'], x = subset['wins'], color = '#dbbd5a', orient='h', alpha = 0.3)\n",
    "sns.scatterplot(y = subset['name'], x = subset['wins'], zorder=10, color='#dbbd5a', marker = '*', edgecolor='#6b5717' , s= 1000)\n",
    "plt.xticks(range(0,5,1), fontsize=10, color='#ebdaa4')\n",
    "plt.ylabel('')\n",
    "plt.yticks([])\n",
    "plt.gca().spines['top'].set_visible(False)\n",
    "plt.gca().spines['right'].set_visible(False)\n",
    "plt.gca().spines['bottom'].set_visible(False)\n",
    "plt.gca().spines['left'].set_visible(False)\n",
    "plt.gca().set_facecolor('#1d1d1d')\n",
    "\n",
    "plt.subplot(1,3,3)\n",
    "plt.title('Awards received from 1990 to 2020 \\nas % of received nominations', fontsize=16, color='#dfc56e', pad=20)\n",
    "#subset.sort_values(['wins'], ascending = False, inplace = True)\n",
    "sns.barplot(y = subset['name'], x = subset['perc_won'], color = '#dbbd5a', orient='h', alpha = 0.3)\n",
    "sns.scatterplot(y = subset['name'], x = subset['perc_won'], zorder=10, color='#dbbd5a', marker = '*', edgecolor='#6b5717' , s= 1000)\n",
    "plt.xticks(np.linspace(0,0.9,10), fontsize=10, color='#ebdaa4')\n",
    "plt.gca().set_xticklabels(['{:.0f}%'.format(y*100) for y in plt.gca().get_xticks()])\n",
    "plt.gca().set_facecolor('#1d1d1d')\n",
    "plt.ylabel('')\n",
    "plt.yticks([])\n",
    "\n",
    "plt.gca().spines['top'].set_visible(False)\n",
    "plt.gca().spines['right'].set_visible(False)\n",
    "plt.gca().spines['bottom'].set_visible(False)\n",
    "plt.gca().spines['left'].set_visible(False)\n",
    "plt.gca().set_facecolor('#1d1d1d')\n",
    "plt.tight_layout();\n",
    "\n",
    "plt.savefig('../visualizations/sweethearts.png',facecolor=fig.get_facecolor(), edgecolor='none')"
   ]
  },
  {
   "cell_type": "code",
   "execution_count": null,
   "metadata": {},
   "outputs": [],
   "source": [
    "subset = nm_wins_noms[(nm_wins_noms['perc_won']==0) & (nm_wins_noms['all_nominations']>= 7)]\n",
    "\n",
    "plt.figure(figsize = (17,8), facecolor = '#1d1d1d', edgecolor = '#1d1d1d')\n",
    "plt.suptitle('Academy Sweetsnubs\\n', fontsize=20, color='#dfc56e')\n",
    "\n",
    "plt.subplot(1,3,1)\n",
    "plt.title('\\n\\nNominations received from 1990 to 2020', fontsize=16, color='#dfc56e', pad=20)\n",
    "subset.sort_values(['all_nominations'], ascending = False, inplace = True)\n",
    "sns.barplot(y = subset['name'], x = subset['all_nominations'], color = '#dbbd5a', orient='h', alpha = 0.3)\n",
    "sns.scatterplot(y = subset['name'], x = subset['all_nominations'], zorder=10, color='#dbbd5a', marker = '*', edgecolor='#6b5717' , s= 1000)\n",
    "plt.xticks(range(0,23,5), fontsize=8, color='#ebdaa4')\n",
    "plt.yticks(fontsize=11, color='#ebdaa4')\n",
    "plt.ylabel('')\n",
    "plt.gca().spines['top'].set_visible(False)\n",
    "plt.gca().spines['right'].set_visible(False)\n",
    "plt.gca().spines['bottom'].set_visible(False)\n",
    "plt.gca().spines['left'].set_visible(False)\n",
    "plt.gca().set_facecolor('#1d1d1d')\n",
    "\n",
    "plt.subplot(1,3,2)\n",
    "plt.title('Awards received from 1990 to 2020', fontsize=16, color='#dfc56e', pad=20)\n",
    "#subset.sort_values(['wins'], ascending = False, inplace = True)\n",
    "sns.barplot(y = subset['name'], x = subset['wins'], color = '#dbbd5a', orient='h', alpha = 0.3)\n",
    "sns.scatterplot(y = subset['name'], x = subset['wins'], zorder=10, color='#dbbd5a', marker = '*', edgecolor='#6b5717' , s= 1000)\n",
    "plt.xticks(range(0,5,1), fontsize=10, color='#ebdaa4')\n",
    "plt.ylabel('')\n",
    "plt.yticks([])\n",
    "plt.gca().spines['top'].set_visible(False)\n",
    "plt.gca().spines['right'].set_visible(False)\n",
    "plt.gca().spines['bottom'].set_visible(False)\n",
    "plt.gca().spines['left'].set_visible(False)\n",
    "plt.gca().set_facecolor('#1d1d1d')\n",
    "\n",
    "plt.subplot(1,3,3)\n",
    "plt.title('Awards received from 1990 to 2020\\n as % of received nominations', fontsize=16, color='#dfc56e', pad=20)\n",
    "#subset.sort_values(['wins'], ascending = False, inplace = True)\n",
    "sns.barplot(y = subset['name'], x = subset['perc_won'], color = '#dbbd5a', orient='h', alpha = 0.3)\n",
    "sns.scatterplot(y = subset['name'], x = subset['perc_won'], zorder=10, color='#dbbd5a', marker = '*', edgecolor='#6b5717' , s= 1000)\n",
    "plt.xticks(np.linspace(0,0.5,6), fontsize=10, color='#ebdaa4')\n",
    "plt.gca().set_xticklabels(['{:.0f}%'.format(y*100) for y in plt.gca().get_xticks()])\n",
    "plt.ylabel('')\n",
    "plt.yticks([])\n",
    "plt.gca().spines['top'].set_visible(False)\n",
    "plt.gca().spines['right'].set_visible(False)\n",
    "plt.gca().spines['bottom'].set_visible(False)\n",
    "plt.gca().spines['left'].set_visible(False)\n",
    "plt.gca().set_facecolor('#1d1d1d')\n",
    "\n",
    "plt.tight_layout();\n",
    "\n",
    "plt.savefig('../visualizations/sweetsnubsplt.png',facecolor=fig.get_facecolor(), edgecolor='none')"
   ]
  },
  {
   "cell_type": "markdown",
   "metadata": {},
   "source": [
    "What I would like is for this to feed a chart that shows all these names on the y axis, 1990-2020 on the x axis, and an empty star for nomination in a year, gold star for a win."
   ]
  },
  {
   "cell_type": "code",
   "execution_count": null,
   "metadata": {},
   "outputs": [],
   "source": [
    "### FROM"
   ]
  },
  {
   "cell_type": "code",
   "execution_count": null,
   "metadata": {},
   "outputs": [],
   "source": [
    "academy_shs = nm_wins_noms[(nm_wins_noms['all_nominations']>=5) & (nm_wins_noms['perc_won']>=0.4)].index"
   ]
  },
  {
   "cell_type": "code",
   "execution_count": null,
   "metadata": {},
   "outputs": [],
   "source": [
    "academy_shs"
   ]
  },
  {
   "cell_type": "code",
   "execution_count": null,
   "metadata": {},
   "outputs": [],
   "source": [
    "academy_sbs = nm_wins_noms[(nm_wins_noms['all_nominations']>=7) & (nm_wins_noms['perc_won']==0)].index"
   ]
  },
  {
   "cell_type": "code",
   "execution_count": null,
   "metadata": {},
   "outputs": [],
   "source": [
    "pickle.dump(academy_sbs, open('../pickles/sweetsnubs.p', 'wb'))"
   ]
  },
  {
   "cell_type": "code",
   "execution_count": null,
   "metadata": {},
   "outputs": [],
   "source": [
    "pickle.dump(academy_shs, open('../pickles/sweethearts.p', 'wb'))"
   ]
  },
  {
   "cell_type": "code",
   "execution_count": null,
   "metadata": {},
   "outputs": [],
   "source": [
    "### TO"
   ]
  },
  {
   "cell_type": "code",
   "execution_count": null,
   "metadata": {},
   "outputs": [],
   "source": [
    "nconst_name = pickle.load(open('../pickles/nconst_name.p', 'rb'))"
   ]
  },
  {
   "cell_type": "code",
   "execution_count": null,
   "metadata": {},
   "outputs": [],
   "source": [
    "shwins_df = pickle.load(open('../pickles/shwins_df.p', 'rb'))\n",
    "shnoms_df = pickle.load(open('../pickles/shnoms_df.p', 'rb'))\n",
    "sbwins_df = pickle.load(open('../pickles/sbwins_df.p', 'rb'))\n",
    "sbnoms_df = pickle.load(open('../pickles/sbnoms_df.p', 'rb'))"
   ]
  },
  {
   "cell_type": "markdown",
   "metadata": {},
   "source": [
    "Unstacking and renaming columns for use in visualizaton:"
   ]
  },
  {
   "cell_type": "code",
   "execution_count": null,
   "metadata": {},
   "outputs": [],
   "source": [
    "shwins_yr = shwins_df[range(1990,2021)].unstack().reset_index()\n",
    "\n",
    "shwins_yr.rename(columns = {'level_0': 'year', 0: 'wins', 'level_1': 'nconst'}, inplace=True)\n",
    "shwins_yr['size'] = shwins_yr['wins']*150\n",
    "shwins_yr.set_index('nconst', inplace=True)\n",
    "\n",
    "shnoms_yr = shnoms_df[range(1990,2021)].unstack().reset_index()\n",
    "\n",
    "shnoms_yr.rename(columns = {'level_0': 'year', 0: 'wins', 'level_1': 'nconst'}, inplace=True)\n",
    "shnoms_yr['size'] = shnoms_yr['wins']*130\n",
    "shnoms_yr.set_index('nconst', inplace=True)\n",
    "\n",
    "sbwins_yr = sbwins_df[range(1990,2021)].unstack().reset_index()\n",
    "\n",
    "sbwins_yr.rename(columns = {'level_0': 'year', 0: 'wins', 'level_1': 'nconst'}, inplace=True)\n",
    "sbwins_yr['size'] = sbwins_yr['wins']*150\n",
    "sbwins_yr.set_index('nconst', inplace=True)\n",
    "\n",
    "sbnoms_yr = sbnoms_df[range(1990,2021)].unstack().reset_index()\n",
    "\n",
    "sbnoms_yr.rename(columns = {'level_0': 'year', 0: 'wins', 'level_1': 'nconst'}, inplace=True)\n",
    "sbnoms_yr['size'] = sbnoms_yr['wins']*130\n",
    "sbnoms_yr.set_index('nconst', inplace=True)"
   ]
  },
  {
   "cell_type": "code",
   "execution_count": null,
   "metadata": {},
   "outputs": [],
   "source": [
    "shwins_yr['name'] = shwins_yr.index.map(nconst_name)\n",
    "shnoms_yr['name'] = shnoms_yr.index.map(nconst_name)\n",
    "\n",
    "sbwins_yr['name'] = sbwins_yr.index.map(nconst_name)\n",
    "sbnoms_yr['name'] = sbnoms_yr.index.map(nconst_name)"
   ]
  },
  {
   "cell_type": "code",
   "execution_count": null,
   "metadata": {},
   "outputs": [],
   "source": [
    "plt.figure(figsize = (18, 8), facecolor = '#1d1d1d', edgecolor = '#1d1d1d')\n",
    "plt.title('Academy loving its sweethearts (1990-2020)', fontsize=20, color='#dfc56e', pad=20)\n",
    "\n",
    "plt.scatter(x = shnoms_yr['year'], y = shnoms_yr['name'], edgecolors = '#dec267', c = '#f9f5e7', alpha=.1, s = 50, marker = 'o')\n",
    "plt.scatter(x = shnoms_yr['year'], y = shnoms_yr['name'], c = '#f9f5e7', edgecolors = '#dec267', alpha=0.8, s = shnoms_yr['size'], cmap = golds, marker = 'o')\n",
    "plt.scatter(x = shwins_yr['year'], y = shwins_yr['name'], c = '#c9a42b', edgecolors = '#93781f', alpha=0.8, s = shwins_yr['size'], cmap = golds, marker = '*')\n",
    "\n",
    "plt.xticks(fontsize=11, color='#ebdaa4')\n",
    "plt.yticks(fontsize=11, color='#ebdaa4')\n",
    "plt.ylabel('', fontsize=11, color='#ebdaa4')\n",
    "plt.xlabel('')\n",
    "plt.gca().invert_yaxis()\n",
    "plt.gca().spines['top'].set_visible(False)\n",
    "plt.gca().spines['right'].set_visible(False)\n",
    "plt.gca().spines['bottom'].set_visible(False)\n",
    "plt.gca().spines['left'].set_visible(False)\n",
    "plt.gca().set_facecolor('#1d1d1d')\n",
    "plt.tight_layout();\n",
    "\n",
    "plt.savefig('../visualizations/shs_wn_yr.png',facecolor=fig.get_facecolor(), edgecolor='none')"
   ]
  },
  {
   "cell_type": "code",
   "execution_count": null,
   "metadata": {},
   "outputs": [],
   "source": [
    "plt.figure(figsize = (18, 8), facecolor = '#1d1d1d', edgecolor = '#1d1d1d')\n",
    "plt.title('Academy snubbing its sweetsnubs (1910-2020)', fontsize=20, color='#dfc56e', pad=20)\n",
    "\n",
    "plt.scatter(x = sbnoms_yr['year'], y = sbnoms_yr['name'], edgecolors = '#efe2b8', c = '#f9f5e7', alpha=.1, s = 50, marker = 'o')\n",
    "plt.scatter(x = sbnoms_yr['year'], y = sbnoms_yr['name'], c = '#f9f5e7', edgecolors = '#efe2b8', alpha=0.8, s = sbnoms_yr['size'], cmap = golds, marker = 'o')\n",
    "\n",
    "plt.xticks(fontsize=11, color='#ebdaa4')\n",
    "plt.yticks(fontsize=11, color='#ebdaa4')\n",
    "plt.xlabel('')\n",
    "plt.gca().invert_yaxis()\n",
    "plt.gca().spines['top'].set_visible(False)\n",
    "plt.gca().spines['right'].set_visible(False)\n",
    "plt.gca().spines['bottom'].set_visible(False)\n",
    "plt.gca().spines['left'].set_visible(False)\n",
    "plt.gca().set_facecolor('#1d1d1d')\n",
    "plt.tight_layout();\n",
    "\n",
    "plt.savefig('../visualizations/sbs_wn_yr.png',facecolor=fig.get_facecolor(), edgecolor='none')"
   ]
  },
  {
   "cell_type": "markdown",
   "metadata": {},
   "source": [
    "### Analysis of wins and nominations by gender and age of winners / nominees"
   ]
  },
  {
   "cell_type": "code",
   "execution_count": null,
   "metadata": {},
   "outputs": [],
   "source": [
    "noms_wins_df = pickle.load(open('../pickles/noms_wins_df.p', 'rb'))\n",
    "wins_df = pickle.load(open('../pickles/wins_df.p', 'rb'))"
   ]
  },
  {
   "cell_type": "code",
   "execution_count": null,
   "metadata": {},
   "outputs": [],
   "source": [
    "noms_wins_df_us = noms_wins_df.unstack().reset_index()"
   ]
  },
  {
   "cell_type": "code",
   "execution_count": null,
   "metadata": {},
   "outputs": [],
   "source": [
    "title_principals_1990_20_w_Oscars = pd.read_csv('../data/title_principals_1990_20_w_Oscars.csv')"
   ]
  },
  {
   "cell_type": "code",
   "execution_count": null,
   "metadata": {},
   "outputs": [],
   "source": [
    "nm_g_byr = title_principals_1990_20_w_Oscars.groupby(['nconst', 'gender'])['birthYear'].mean().reset_index()\n",
    "nm_g_byr.set_index('nconst', inplace = True)"
   ]
  },
  {
   "cell_type": "code",
   "execution_count": null,
   "metadata": {},
   "outputs": [],
   "source": [
    "noms_wins_df_us.rename(columns = {'level_0': 'title_year', 'level_1': 'nconst', 0: 'noms_wins'}, inplace = True)\n",
    "noms_wins_df_us = noms_wins_df_us.merge(nm_g_byr, how = 'left', left_on = 'nconst', right_index = True)\n",
    "noms_wins_df_us['age']= noms_wins_df_us['title_year'] - noms_wins_df_us['birthYear']\n",
    "noms_wins_df_us['gender_bin'] = noms_wins_df_us['gender'].map({'F': 1, 'M': 0})\n",
    "noms_wins_df_us.head()"
   ]
  },
  {
   "cell_type": "code",
   "execution_count": null,
   "metadata": {},
   "outputs": [],
   "source": [
    "noms_wins_df_us = noms_wins_df_us[noms_wins_df_us['noms_wins']>0]\n",
    "noms_wins_df_us.head()"
   ]
  },
  {
   "cell_type": "code",
   "execution_count": null,
   "metadata": {},
   "outputs": [],
   "source": [
    "age_gndr_yr = noms_wins_df_us.groupby('title_year')[['age', 'gender_bin']].mean()\n",
    "temp = noms_wins_df_us.groupby(['title_year', 'gender'])['age'].mean().reset_index()\n",
    "age_by_gndr_yr = temp.pivot_table(index = 'title_year', columns = 'gender', values = 'age')\n",
    "\n",
    "age_gndr_by_gndr_yr = pd.merge(age_gndr_yr, age_by_gndr_yr, left_index= True, right_index= True)"
   ]
  },
  {
   "cell_type": "code",
   "execution_count": null,
   "metadata": {},
   "outputs": [],
   "source": [
    "age_gndr_by_gndr_yr.rename(columns = {'age': 'avg_age', 'gender_bin': 'part_fem', 'F': 'avg_age_fem', 'M': 'avg_age_male'}, inplace = True)\n",
    "age_gndr_by_gndr_yr.head()"
   ]
  },
  {
   "cell_type": "code",
   "execution_count": null,
   "metadata": {},
   "outputs": [],
   "source": [
    "wins_df_us = wins_df.unstack().reset_index()\n",
    "\n",
    "wins_df_us.rename(columns = {'level_0': 'title_year', 'level_1': 'nconst', 0: 'wins'}, inplace = True)\n",
    "wins_df_us = wins_df_us.merge(nm_g_byr, how = 'left', left_on = 'nconst', right_index = True)\n",
    "wins_df_us['age']= wins_df_us['title_year'] - wins_df_us['birthYear']\n",
    "wins_df_us['gender_bin'] = wins_df_us['gender'].map({'F': 1, 'M': 0})\n",
    "wins_df_us = wins_df_us[wins_df_us['wins']>0]\n",
    "\n",
    "wins_age_gndr_yr = wins_df_us.groupby('title_year')[['age', 'gender_bin']].mean()\n",
    "temp = wins_df_us.groupby(['title_year', 'gender'])['age'].mean().reset_index()\n",
    "wins_age_by_gndr_yr = temp.pivot_table(index = 'title_year', columns = 'gender', values = 'age')\n",
    "\n",
    "wins_age_gndr_by_gndr_yr = pd.merge(wins_age_gndr_yr, wins_age_by_gndr_yr, left_index= True, right_index= True)\n",
    "\n",
    "wins_age_gndr_by_gndr_yr.rename(columns = {'age': 'avg_age', 'gender_bin': 'part_fem', 'F': 'avg_age_fem', 'M': 'avg_age_male'}, inplace = True)\n",
    "wins_age_gndr_by_gndr_yr.head()"
   ]
  },
  {
   "cell_type": "markdown",
   "metadata": {},
   "source": [
    "####  Time to visualize"
   ]
  },
  {
   "cell_type": "code",
   "execution_count": null,
   "metadata": {},
   "outputs": [],
   "source": [
    "fig, ax1 = plt.subplots(figsize=(17,7), facecolor = '#1d1d1d', edgecolor = '#1d1d1d')\n",
    "\n",
    "ax1 = plt.bar( age_gndr_by_gndr_yr.index, age_gndr_by_gndr_yr['part_fem'], color = '#f8f2e0', alpha = 1, label = '% of female nominees and recipients')\n",
    "ax1 = sns.regplot(data = age_gndr_by_gndr_yr, x = age_gndr_by_gndr_yr.index, y = 'part_fem',  \n",
    "            scatter = False, ci = 0, line_kws={'lw': 2, 'ls': '-', 'color': '#f2e8c5'})\n",
    "\n",
    "plt.title('Average age of Academy Award nominees and recipients', fontsize=20, color='#dfc56e', pad=20)\n",
    "ax1.set_xlabel('year', fontsize=11, color='#ebdaa4')\n",
    "ax1.set_ylabel('% of women', fontsize=11, color='#ebdaa4')\n",
    "plt.xticks(age_gndr_by_gndr_yr.index, fontsize=10, color='#ebdaa4')\n",
    "plt.yticks(fontsize=10, color='#ebdaa4')\n",
    "plt.gca().set_yticklabels(['{:.0f}%'.format(x*100) for x in plt.gca().get_yticks()])\n",
    "plt.gca().spines['top'].set_visible(False)\n",
    "plt.gca().spines['right'].set_visible(False)\n",
    "plt.gca().spines['bottom'].set_visible(False)\n",
    "plt.gca().spines['left'].set_visible(False)\n",
    "plt.gca().set_facecolor('#1d1d1d')\n",
    "ax1.legend();\n",
    "\n",
    "ax2 = ax1.twinx()\n",
    "ax2 = sns.lineplot(data = age_gndr_by_gndr_yr, x = age_gndr_by_gndr_yr.index, y = 'avg_age_fem', color = '#d8b74d', marker = '*', markersize =20, lw = 1,\n",
    "             label = 'average age of female nominees and recipients')\n",
    "ax2 = sns.regplot(data = age_gndr_by_gndr_yr, x = age_gndr_by_gndr_yr.index, y = 'avg_age_fem',  \n",
    "            scatter = False, ci = 0, \n",
    "            line_kws={'lw': 2, 'ls': '--', 'color': '#d8b74d'})\n",
    "ax2 = sns.lineplot(data = age_gndr_by_gndr_yr, x = age_gndr_by_gndr_yr.index, y = 'avg_age_male', color = '#ae8e25',  marker = '*', markersize =20, lw = 1,\n",
    "             label = 'average age of male nominees and recipients')\n",
    "ax2 = sns.regplot(data = age_gndr_by_gndr_yr, x = age_gndr_by_gndr_yr.index, y = 'avg_age_male', \n",
    "            scatter = False, ci = 0, \n",
    "            line_kws={'lw': 2, 'ls': '--',  'color': '#ae8e25'})\n",
    "ax2.set_xlabel('year', fontsize=11, color='#ebdaa4')\n",
    "ax2.set_ylabel('age', fontsize=11, color='#ebdaa4')\n",
    "plt.xticks(age_gndr_by_gndr_yr.index, fontsize=10, color='#ebdaa4')\n",
    "plt.yticks(fontsize=10, color='#ebdaa4')\n",
    "plt.gca().spines['top'].set_visible(False)\n",
    "plt.gca().spines['right'].set_visible(False)\n",
    "plt.gca().spines['bottom'].set_visible(False)\n",
    "plt.gca().spines['left'].set_visible(False)\n",
    "plt.gca().set_facecolor('#1d1d1d')\n",
    "ax2.legend(loc = 'upper center');\n",
    "\n",
    "plt.tight_layout()\n",
    "\n",
    "plt.savefig('../visualizations/avg_age_winnoms_gndr.png',facecolor=fig.get_facecolor(), edgecolor='none')"
   ]
  },
  {
   "cell_type": "code",
   "execution_count": null,
   "metadata": {},
   "outputs": [],
   "source": [
    "fig, ax1 = plt.subplots(figsize=(17,7), facecolor = '#1d1d1d', edgecolor = '#1d1d1d')\n",
    "\n",
    "ax1 = plt.bar( wins_age_gndr_by_gndr_yr.index, wins_age_gndr_by_gndr_yr['part_fem'], color = '#f8f2e0', alpha = 1, label = '% of female recipients')\n",
    "ax1 = sns.regplot(data = wins_age_gndr_by_gndr_yr, x = wins_age_gndr_by_gndr_yr.index, y = 'part_fem',  \n",
    "            scatter = False, ci = 0, line_kws={'lw': 2, 'ls': '-', 'color': '#f2e8c5'})\n",
    "\n",
    "plt.title('Average age of Academy Award recipients', fontsize=20, color='#dfc56e', pad=20)\n",
    "ax1.set_xlabel('year', fontsize=11, color='#ebdaa4')\n",
    "ax1.set_ylabel('% of women', fontsize=11, color='#ebdaa4')\n",
    "plt.xticks(wins_age_gndr_by_gndr_yr.index, fontsize=10, color='#ebdaa4')\n",
    "plt.yticks(fontsize=10, color='#ebdaa4')\n",
    "plt.gca().set_yticklabels(['{:.0f}%'.format(x*100) for x in plt.gca().get_yticks()])\n",
    "plt.gca().spines['top'].set_visible(False)\n",
    "plt.gca().spines['right'].set_visible(False)\n",
    "plt.gca().spines['bottom'].set_visible(False)\n",
    "plt.gca().spines['left'].set_visible(False)\n",
    "plt.gca().set_facecolor('#1d1d1d')\n",
    "ax1.legend();\n",
    "\n",
    "ax2 = ax1.twinx()\n",
    "ax2 = sns.lineplot(data = wins_age_gndr_by_gndr_yr, x = wins_age_gndr_by_gndr_yr.index, y = 'avg_age_fem', color = '#dbbd5a', marker = '*', markersize =20, lw = 1,\n",
    "             label = 'average age of female recipients')\n",
    "ax2 = sns.regplot(data = wins_age_gndr_by_gndr_yr, x = wins_age_gndr_by_gndr_yr.index, y = 'avg_age_fem',  \n",
    "            scatter = False, ci = 0, \n",
    "            line_kws={'lw': 2, 'ls': '--', 'color': '#dbbd5a'})\n",
    "ax2 = sns.lineplot(data = wins_age_gndr_by_gndr_yr, x = wins_age_gndr_by_gndr_yr.index, y = 'avg_age_male', color = '#ae8e25',  marker = '*', markersize =20, lw = 1,\n",
    "             label = 'average age of male recipients')\n",
    "ax2 = sns.regplot(data = wins_age_gndr_by_gndr_yr, x = wins_age_gndr_by_gndr_yr.index, y = 'avg_age_male', \n",
    "            scatter = False, ci = 0, \n",
    "            line_kws={'lw': 2, 'ls': '--',  'color': '#ae8e25'})\n",
    "ax2.set_xlabel('year', fontsize=11, color='#ebdaa4')\n",
    "ax2.set_ylabel('age', fontsize=11, color='#ebdaa4')\n",
    "plt.xticks(wins_age_gndr_by_gndr_yr.index, fontsize=10, color='#ebdaa4')\n",
    "plt.yticks(fontsize=10, color='#ebdaa4')\n",
    "plt.gca().spines['top'].set_visible(False)\n",
    "plt.gca().spines['right'].set_visible(False)\n",
    "plt.gca().spines['bottom'].set_visible(False)\n",
    "plt.gca().spines['left'].set_visible(False)\n",
    "ax2.legend(loc = 'upper center');\n",
    "\n",
    "plt.tight_layout()\n",
    "\n",
    "plt.savefig('../visualizations/avg_age_wins_gndr.png',facecolor=fig.get_facecolor(), edgecolor='none')"
   ]
  },
  {
   "cell_type": "markdown",
   "metadata": {},
   "source": [
    "### Analysis of wins and nominations by individuals without previous nominations¶"
   ]
  },
  {
   "cell_type": "code",
   "execution_count": null,
   "metadata": {},
   "outputs": [],
   "source": [
    "new_in_all_winners = pickle.load(open('../pickles/new_in_all_winners.p', 'rb'))\n",
    "new_in_all_nominees = pickle.load(open('../pickles/new_in_all_nominees.p', 'rb'))"
   ]
  },
  {
   "cell_type": "code",
   "execution_count": null,
   "metadata": {},
   "outputs": [],
   "source": [
    "plt.figure(figsize = (18,9), facecolor = '#1d1d1d', edgecolor = '#1d1d1d')\n",
    "plt.subplot(2,1,2)\n",
    "plt.title('Number # of Oscar newcomers awarded by the Academy as % of all winners, by year (1990-2020)', fontsize=20, color='#dfc56e', pad=20)\n",
    "plt.bar(x = range(0,28), height = new_in_all_winners, color = '#dfc56e')\n",
    "plt.xticks(range(0,28,5), range(1991,2020,5), fontsize=10, color='#ebdaa4')\n",
    "plt.axhline(np.mean(new_in_all_winners[10:]), ls = '--', color='#ebdaa4')\n",
    "plt.xlabel('year', fontsize=11, color='#ebdaa4')\n",
    "plt.ylabel('% of newcomers', fontsize=11, color='#ebdaa4')\n",
    "plt.yticks(fontsize=10, color='#ebdaa4')\n",
    "plt.gca().spines['top'].set_visible(False)\n",
    "plt.gca().spines['right'].set_visible(False)\n",
    "plt.gca().spines['bottom'].set_visible(False)\n",
    "plt.gca().spines['left'].set_visible(False)\n",
    "plt.gca().set_facecolor('#1d1d1d')\n",
    "plt.gca().set_yticklabels(['{:.0f}%'.format(x*100) for x in plt.gca().get_yticks()]);\n",
    "\n",
    "plt.subplot(2,1,1)\n",
    "plt.title('Number # of Oscar newcomers nominated by the Academy as % of all nominees, by year (1990-2020)', fontsize=20, color='#dfc56e', pad=20)\n",
    "plt.bar(x = range(0,28), height = new_in_all_nominees, color = '#dfc56e')\n",
    "plt.xticks(range(0,28,5), range(1991,2020,5), fontsize=10, color='#ebdaa4')\n",
    "plt.axhline(np.mean(new_in_all_nominees[10:]), ls = '--', color='#ebdaa4')\n",
    "plt.xlabel('year', fontsize=11, color='#ebdaa4')\n",
    "plt.ylabel('% of newcomers', fontsize=11, color='#ebdaa4')\n",
    "plt.yticks(fontsize=10, color='#ebdaa4')\n",
    "plt.gca().spines['top'].set_visible(False)\n",
    "plt.gca().spines['right'].set_visible(False)\n",
    "plt.gca().spines['bottom'].set_visible(False)\n",
    "plt.gca().spines['left'].set_visible(False)\n",
    "plt.gca().set_facecolor('#1d1d1d')\n",
    "plt.gca().set_yticklabels(['{:.0f}%'.format(x*100) for x in plt.gca().get_yticks()]);\n",
    "\n",
    "plt.tight_layout()\n",
    "\n",
    "plt.savefig('../visualizations/oscar_newcomers_win.png',facecolor=fig.get_facecolor(), edgecolor='none')"
   ]
  },
  {
   "cell_type": "markdown",
   "metadata": {},
   "source": [
    "### Inspecting the relationship between rating and number of awards / nominations"
   ]
  },
  {
   "cell_type": "code",
   "execution_count": null,
   "metadata": {},
   "outputs": [],
   "source": [
    "ratings = pickle.load(open('../pickles/rating.p', 'rb'))"
   ]
  },
  {
   "cell_type": "code",
   "execution_count": null,
   "metadata": {},
   "outputs": [],
   "source": [
    "movies['avg_rating'] = movies.index.map(ratings)"
   ]
  },
  {
   "cell_type": "code",
   "execution_count": null,
   "metadata": {},
   "outputs": [],
   "source": [
    "plt.figure(figsize = (20,8), facecolor = '#1d1d1d', edgecolor = '#1d1d1d')\n",
    "plt.suptitle('Academy \"ratings\" (nominations and wins\") vs viewer ratings', fontsize=20, color='#dfc56e')\n",
    "plt.subplot(1,2,1)\n",
    "sns.scatterplot(x = movies['avg_rating'], y= movies['o_wins_noms'], marker = '*', color = '#dbbd5a', s = 500, alpha = 0.5)\n",
    "plt.axvline(5, ls = '--', color = '#9a7d21', lw = 2.5)\n",
    "plt.xlabel('budget (USD)', fontsize=11, color='#ebdaa4')\n",
    "plt.xticks(fontsize=10, color='#ebdaa4')\n",
    "plt.yticks(fontsize=10, color='#ebdaa4')\n",
    "plt.ylabel('Academy Award nominations and wins', fontsize=11, color='#ebdaa4')\n",
    "plt.gca().set_facecolor('#1d1d1d')\n",
    "\n",
    "plt.subplot(1,2,2)\n",
    "sns.scatterplot(x = movies['avg_rating'], y= movies['o_wins_noms'], marker = '*', color = '#dbbd5a', s = 500, alpha = 0.5)\n",
    "plt.xlim(5,10)\n",
    "plt.xlabel('budget (USD)', fontsize=11, color='#ebdaa4')\n",
    "plt.xticks(fontsize=10, color='#ebdaa4')\n",
    "plt.yticks(fontsize=10, color='#ebdaa4')\n",
    "plt.gca().set_facecolor('#1d1d1d')\n",
    "\n",
    "plt.tight_layout();\n",
    "\n",
    "plt.savefig('../visualizations/wins_noms_rtgs.png',facecolor=fig.get_facecolor(), edgecolor='none')"
   ]
  },
  {
   "cell_type": "code",
   "execution_count": null,
   "metadata": {},
   "outputs": [],
   "source": [
    "plt.figure(figsize = (20,8), facecolor = '#1d1d1d', edgecolor = '#1d1d1d')\n",
    "plt.suptitle('Opening weekend revenues and oscar results vs estimated budget', fontsize=20, color='#dfc56e')\n",
    "plt.subplot(1,2,1)\n",
    "sns.scatterplot(movies['budget_USD'], movies['US_open_WE'], alpha = 0.3, color = '#d7b546', marker = '*', s = 300)\n",
    "plt.xlabel('budget (USD)', fontsize=11, color='#ebdaa4')\n",
    "plt.ylabel('US opening weekend (USD)', fontsize=11, color='#ebdaa4')\n",
    "plt.xticks(fontsize=10, color='#ebdaa4')\n",
    "plt.yticks(fontsize=10, color='#ebdaa4')\n",
    "plt.gca().set_facecolor('#1d1d1d')\n",
    "\n",
    "plt.subplot(1,2,2)\n",
    "sns.scatterplot(movies['budget_USD'], movies['o_wins_noms'], alpha = 0.3, color = '#d7b546', marker = '*', s = 300)\n",
    "plt.xlabel('budget (USD)', fontsize=11, color='#ebdaa4')\n",
    "plt.ylabel('Academy Award nominations and wins', fontsize=11, color='#ebdaa4')\n",
    "plt.xticks(fontsize=10, color='#ebdaa4')\n",
    "plt.yticks(fontsize=10, color='#ebdaa4')\n",
    "plt.gca().spines['top'].set_visible(False)\n",
    "plt.gca().spines['right'].set_visible(False)\n",
    "plt.gca().spines['bottom'].set_visible(False)\n",
    "plt.gca().spines['left'].set_visible(False)\n",
    "plt.gca().set_facecolor('#1d1d1d');\n",
    "\n",
    "plt.savefig('../visualizations/openWE_wins_noms_bdgt.png',facecolor=fig.get_facecolor(), edgecolor='none')"
   ]
  },
  {
   "cell_type": "code",
   "execution_count": null,
   "metadata": {},
   "outputs": [],
   "source": [
    "plt.figure(figsize = (20,8), facecolor = '#1d1d1d', edgecolor = '#1d1d1d')\n",
    "plt.subplot(1,2,1)\n",
    "sns.regplot(movies['budget_USD'], movies['US_open_WE'],  color = '#d7b546', scatter_kws={'alpha':0.3, 'marker': \"*\"})\n",
    "plt.gca().set_facecolor('#1d1d1d')\n",
    "plt.subplot(1,2,2)\n",
    "sns.regplot(movies['budget_USD'], movies['US_open_WE'], color = '#d7b546', scatter_kws={'alpha':0.3, 'marker': \"*\"})\n",
    "plt.gca().set_facecolor('#1d1d1d')\n",
    "\n",
    "plt.xlim(0,200000000)\n",
    "plt.ylim(0,200000000);"
   ]
  },
  {
   "cell_type": "code",
   "execution_count": null,
   "metadata": {},
   "outputs": [],
   "source": [
    "plt.figure(figsize = (20,8), facecolor = '#1d1d1d', edgecolor = '#1d1d1d')\n",
    "plt.subplot(1,2,1)\n",
    "sns.regplot(movies['budget_USD'], movies['o_wins_noms'],  color = '#d7b546', scatter_kws={'alpha':0.3, 'marker': \"*\"})\n",
    "plt.gca().set_facecolor('#1d1d1d')\n",
    "plt.subplot(1,2,2)\n",
    "sns.regplot(movies['budget_USD'], movies['o_wins_noms'], color = '#d7b546', scatter_kws={'alpha':0.3, 'marker': \"*\"})\n",
    "plt.gca().set_facecolor('#1d1d1d')\n",
    "\n",
    "plt.xlim(0,200000000)\n",
    "plt.ylim(0,200000000);"
   ]
  },
  {
   "cell_type": "code",
   "execution_count": null,
   "metadata": {},
   "outputs": [],
   "source": [
    "genres = list(movies.columns[84:107])"
   ]
  },
  {
   "cell_type": "code",
   "execution_count": null,
   "metadata": {},
   "outputs": [],
   "source": [
    "genre_sets = []\n",
    "for genre in genres:\n",
    "    for i in range(len(genres)-genres.index(genre)):\n",
    "        genre_sets.append([genre, genres[genres.index(genre)+i]])"
   ]
  },
  {
   "cell_type": "code",
   "execution_count": null,
   "metadata": {},
   "outputs": [],
   "source": [
    "best_set = None\n",
    "best_set_score = 0\n",
    "for gset in genre_sets:\n",
    "    if movies[(movies[gset[0]]==1) & (movies[gset[1]]==1)]['Oscars'].mean() > best_set_score:\n",
    "        best_set = gset\n",
    "        best_set_score = movies[(movies[gset[0]]==1) & (movies[gset[1]]==1)]['Oscars'].mean()\n",
    "print(\"\")\n",
    "print(best_set, best_set_score)"
   ]
  },
  {
   "cell_type": "code",
   "execution_count": null,
   "metadata": {},
   "outputs": [],
   "source": [
    "tconst_title = pickle.load(open('../pickles/tconst_title.p', 'rb'))"
   ]
  },
  {
   "cell_type": "code",
   "execution_count": null,
   "metadata": {},
   "outputs": [],
   "source": [
    "X_vars_all = ['runtimeMinutes', 'Action', 'Adult', 'Adventure', 'Animation', 'Biography', 'Comedy',\n",
    "       'Crime', 'Documentary', 'Drama', 'Family', 'Fantasy', 'History', 'Horror', 'Music', 'Musical', 'Mystery', 'News',\n",
    "       'Reality-TV', 'Romance', 'Sci-Fi', 'Sport', 'Thriller', 'War', \n",
    "       'Warner Bros.', 'Universal Pictures', 'Columbia Pictures',\n",
    "       'Paramount Pictures', 'Dreamworks Pictures', 'Walt Disney Pictures',\n",
    "       'Miramax', 'Twentieth Century Fox', 'New Line Cinema', 'Focus Features',\n",
    "       'Fox Searchlight Pictures', 'Touchstone Pictures',\n",
    "       'Walt Disney Animation Studios', 'BBC Films', 'TriStar Pictures',\n",
    "       'New Regency Productions', 'Fox 2000 Pictures', 'The Weinstein Company',\n",
    "       'Annapurna Pictures', 'Castle Rock Entertainment',\n",
    "        'oscars_post_release', 'US_open_WE', 'prev_Oscars', 'rel_USA', 'prev_Oscar_wins_nm', 'prev_Oscar_noms_nm',\n",
    "       'rel__aug', 'rel__dec', 'rel__feb', 'rel__jan', 'rel__jul', 'rel__jun',\n",
    "       'rel__mar', 'rel__may', 'rel__nov', 'rel__oct', 'rel__sep', 'budget_USD']"
   ]
  },
  {
   "cell_type": "code",
   "execution_count": null,
   "metadata": {},
   "outputs": [],
   "source": [
    "pca = PCA(n_components = 5)\n",
    "movies_pca = pca.fit_transform(movies[X_vars_all])\n",
    "movies_pca_df = pd.DataFrame(index = movies.index, data = movies_pca)\n",
    "\n",
    "movies_pca_df['title'] = movies_pca_df.index.map(tconst_title)\n",
    "movies_pca_df['oscar_movie'] = movies_pca_df.index.isin(movies[movies['Oscars']==1].index).astype(int)\n",
    "movies_pca_df['symbol'] = movies_pca_df['oscar_movie'].map({0: 'star-open', 1: 'star-open'})\n",
    "movies_pca_df['size'] = movies_pca_df['oscar_movie'].map({0: 5, 1: 5})\n",
    "movies_pca_df['color'] = movies_pca_df['oscar_movie'].map({0: '#fcfaf5', 1: '#cdab48'})\n",
    "\n",
    "movies_pca_df.head()"
   ]
  },
  {
   "cell_type": "code",
   "execution_count": null,
   "metadata": {},
   "outputs": [],
   "source": [
    "f = go.FigureWidget([go.Scatter(x=movies_pca_df[1], y= movies_pca_df[3],\n",
    "                                mode='markers', hoverinfo = 'text', hovertext = movies_pca_df['title'], fill = 'none')])\n",
    "\n",
    "scatter = f.data[0]\n",
    "#colors = ['#cdab48'] * movies_pca_df.shape[0]\n",
    "scatter.marker.symbol = movies_pca_df['symbol']\n",
    "scatter.marker.color = movies_pca_df['color']\n",
    "scatter.marker.opacity = 0.5\n",
    "scatter.marker.size = movies_pca_df['size']\n",
    "f.layout.hovermode = 'closest'\n",
    "f.update_layout(width=1600, height=850, plot_bgcolor='rgba(0,0,0,0)', paper_bgcolor='#1d1d1d')\n",
    "f.update_xaxes(showgrid=False, showticklabels=False, visible = True, zerolinecolor = '#5e4c14', zerolinewidth= 2)\n",
    "f.update_yaxes(showgrid=False, showticklabels=False, visible = True, zerolinecolor = '#5e4c14', zerolinewidth= 2)\n",
    "\n",
    "# create our callback function\n",
    "def update_point(trace, points, selector):\n",
    "    c = list(scatter.marker.color)\n",
    "    s = list(scatter.marker.size)\n",
    "    for i in points.point_inds:\n",
    "        s[i] = 40\n",
    "        with f.batch_update():\n",
    "            scatter.marker.color = c\n",
    "            scatter.marker.size = s\n",
    "\n",
    "scatter.on_click(update_point)\n",
    "\n",
    "f.write_html(\"../visualizations/all_movies_cloud.html\")\n",
    "f"
   ]
  },
  {
   "cell_type": "markdown",
   "metadata": {},
   "source": [
    "***\n",
    "***\n",
    "\n",
    "**BACKUP**"
   ]
  },
  {
   "cell_type": "code",
   "execution_count": null,
   "metadata": {},
   "outputs": [],
   "source": [
    "def titles_by_gender(category):\n",
    "\n",
    "    cnt_by_cat_gen_yr = title_principals[title_principals['category']==category].groupby(['titleYear', 'gender'])['tconst'].count().reset_index()\n",
    "    cnt_by_cat_gen_yr_p = cnt_by_cat_gen_yr.pivot_table(values = 'tconst', index = 'titleYear', columns = 'gender').reset_index()\n",
    "    cnt_by_cat_gen_yr_p['F_prop'] = cnt_by_cat_gen_yr_p['F']/ (cnt_by_cat_gen_yr_p['F']+cnt_by_cat_gen_yr_p['M'])\n",
    "    cnt_by_cat_gen_yr_p['M_prop'] = cnt_by_cat_gen_yr_p['M']/ (cnt_by_cat_gen_yr_p['F']+cnt_by_cat_gen_yr_p['M'])\n",
    "\n",
    "    plt.figure(figsize = (17,7))\n",
    "    plt.title('Proportion of movies made each year by female and male '+category+'s', fontsize=20, color='#dfc56e', pad=20)\n",
    "    plt.bar(cnt_by_cat_gen_yr_p['titleYear'], cnt_by_cat_gen_yr_p['F_prop'], color = '#dbbd5a', label = 'female '+category, width = 0.95)\n",
    "    plt.bar(cnt_by_cat_gen_yr_p['titleYear'], cnt_by_cat_gen_yr_p['M_prop'], bottom= cnt_by_cat_gen_yr_p['F_prop'], color = '#ae8e25', \n",
    "            label = 'male '+category, width = 0.95)\n",
    "    plt.gca().set_yticklabels(['{:.0f}%'.format(x*100) for x in plt.gca().get_yticks()])\n",
    "    plt.yticks(fontsize=11, color='#ebdaa4')\n",
    "    plt.xticks(fontsize=11, color='#ebdaa4')\n",
    "    plt.gca().spines['top'].set_visible(False)\n",
    "    plt.gca().spines['right'].set_visible(False)\n",
    "    plt.gca().spines['bottom'].set_visible(False)\n",
    "    plt.gca().spines['left'].set_visible(False)\n",
    "    plt.tight_layout();\n",
    "\n",
    "    plt.savefig('../visualizations/mvs_yr_gndr_yr_'+category+'.png', transparent = True)"
   ]
  },
  {
   "cell_type": "code",
   "execution_count": null,
   "metadata": {},
   "outputs": [],
   "source": [
    "titles_by_gender('director')"
   ]
  }
 ],
 "metadata": {
  "kernelspec": {
   "display_name": "Python 3",
   "language": "python",
   "name": "python3"
  },
  "language_info": {
   "codemirror_mode": {
    "name": "ipython",
    "version": 3
   },
   "file_extension": ".py",
   "mimetype": "text/x-python",
   "name": "python",
   "nbconvert_exporter": "python",
   "pygments_lexer": "ipython3",
   "version": "3.8.3"
  }
 },
 "nbformat": 4,
 "nbformat_minor": 4
}
