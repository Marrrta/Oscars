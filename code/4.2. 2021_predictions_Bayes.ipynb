{
 "cells": [
  {
   "cell_type": "code",
   "execution_count": 22,
   "metadata": {},
   "outputs": [],
   "source": [
    "import pandas as pd\n",
    "import numpy as np\n",
    "import matplotlib.pyplot as plt\n",
    "from matplotlib.colors import LinearSegmentedColormap\n",
    "import pickle\n",
    "\n",
    "from sklearn.preprocessing import StandardScaler\n",
    "from sklearn.model_selection import train_test_split\n",
    "from sklearn.ensemble import RandomForestClassifier, RandomForestRegressor\n",
    "from sklearn.decomposition import PCA\n",
    "\n",
    "import scipy.stats as stats\n",
    "from scipy.stats import beta\n",
    "\n",
    "import pymc3 as pm\n",
    "import arviz as az"
   ]
  },
  {
   "cell_type": "code",
   "execution_count": 2,
   "metadata": {},
   "outputs": [],
   "source": [
    "movies = pd.read_csv('../data/movies_1990_2020_with_detail_oscars_complete.csv', index_col='tconst', low_memory=False)"
   ]
  },
  {
   "cell_type": "code",
   "execution_count": 3,
   "metadata": {},
   "outputs": [],
   "source": [
    "X_vars_all = ['runtimeMinutes', 'Action', 'Adult', 'Adventure', 'Animation', 'Biography', 'Comedy',\n",
    "       'Crime', 'Documentary', 'Drama', 'Family', 'Fantasy', 'History', 'Horror', 'Music', 'Musical', 'Mystery', 'News',\n",
    "       'Reality-TV', 'Romance', 'Sci-Fi', 'Sport', 'Thriller', 'War', \n",
    "       'Warner Bros.', 'Universal Pictures', 'Columbia Pictures',\n",
    "       'Paramount Pictures', 'Dreamworks Pictures', 'Walt Disney Pictures',\n",
    "       'Miramax', 'Twentieth Century Fox', 'New Line Cinema', 'Focus Features',\n",
    "       'Fox Searchlight Pictures', 'Touchstone Pictures',\n",
    "       'Walt Disney Animation Studios', 'BBC Films', 'TriStar Pictures',\n",
    "       'New Regency Productions', 'Fox 2000 Pictures', 'The Weinstein Company',\n",
    "       'Annapurna Pictures', 'Castle Rock Entertainment',\n",
    "        'oscars_post_release', 'US_open_WE', 'prev_Oscars_f', 'rel_USA', 'prev_Oscar_wins_nm', 'prev_Oscar_noms_nm',\n",
    "       'rel__aug', 'rel__dec', 'rel__feb', 'rel__jan', 'rel__jul', 'rel__jun',\n",
    "       'rel__mar', 'rel__may', 'rel__nov', 'rel__oct', 'rel__sep', 'budget_USD']"
   ]
  },
  {
   "cell_type": "code",
   "execution_count": 4,
   "metadata": {},
   "outputs": [],
   "source": [
    "tconst_title = e.loade.load(open('../pickles/tconst_title.p', 'rb'))\n",
    "tconst_year = pickle.load(open('../pickles/tconst_year.p', 'rb'))"
   ]
  },
  {
   "cell_type": "code",
   "execution_count": 5,
   "metadata": {},
   "outputs": [
    {
     "data": {
      "text/html": [
       "<div>\n",
       "<style scoped>\n",
       "    .dataframe tbody tr th:only-of-type {\n",
       "        vertical-align: middle;\n",
       "    }\n",
       "\n",
       "    .dataframe tbody tr th {\n",
       "        vertical-align: top;\n",
       "    }\n",
       "\n",
       "    .dataframe thead th {\n",
       "        text-align: right;\n",
       "    }\n",
       "</style>\n",
       "<table border=\"1\" class=\"dataframe\">\n",
       "  <thead>\n",
       "    <tr style=\"text-align: right;\">\n",
       "      <th></th>\n",
       "      <th>pca1</th>\n",
       "      <th>pca2</th>\n",
       "      <th>title</th>\n",
       "      <th>year</th>\n",
       "      <th>Oscars</th>\n",
       "      <th>GG</th>\n",
       "    </tr>\n",
       "    <tr>\n",
       "      <th>tconst</th>\n",
       "      <th></th>\n",
       "      <th></th>\n",
       "      <th></th>\n",
       "      <th></th>\n",
       "      <th></th>\n",
       "      <th></th>\n",
       "    </tr>\n",
       "  </thead>\n",
       "  <tbody>\n",
       "    <tr>\n",
       "      <th>tt0015414</th>\n",
       "      <td>-0.705611</td>\n",
       "      <td>0.571153</td>\n",
       "      <td>La tierra de los toros</td>\n",
       "      <td>2000.0</td>\n",
       "      <td>0</td>\n",
       "      <td>0.0</td>\n",
       "    </tr>\n",
       "    <tr>\n",
       "      <th>tt0015724</th>\n",
       "      <td>-0.161634</td>\n",
       "      <td>-2.083408</td>\n",
       "      <td>Dama de noche</td>\n",
       "      <td>1993.0</td>\n",
       "      <td>0</td>\n",
       "      <td>0.0</td>\n",
       "    </tr>\n",
       "    <tr>\n",
       "      <th>tt0016906</th>\n",
       "      <td>-0.544298</td>\n",
       "      <td>1.238380</td>\n",
       "      <td>Frivolinas</td>\n",
       "      <td>2014.0</td>\n",
       "      <td>0</td>\n",
       "      <td>0.0</td>\n",
       "    </tr>\n",
       "    <tr>\n",
       "      <th>tt0019996</th>\n",
       "      <td>-0.542016</td>\n",
       "      <td>0.107189</td>\n",
       "      <td>Hongxia</td>\n",
       "      <td>2011.0</td>\n",
       "      <td>0</td>\n",
       "      <td>0.0</td>\n",
       "    </tr>\n",
       "    <tr>\n",
       "      <th>tt0035423</th>\n",
       "      <td>6.718399</td>\n",
       "      <td>-1.435780</td>\n",
       "      <td>Kate &amp; Leopold</td>\n",
       "      <td>2001.0</td>\n",
       "      <td>1</td>\n",
       "      <td>1.0</td>\n",
       "    </tr>\n",
       "  </tbody>\n",
       "</table>\n",
       "</div>"
      ],
      "text/plain": [
       "               pca1      pca2                   title    year  Oscars   GG\n",
       "tconst                                                                    \n",
       "tt0015414 -0.705611  0.571153  La tierra de los toros  2000.0       0  0.0\n",
       "tt0015724 -0.161634 -2.083408           Dama de noche  1993.0       0  0.0\n",
       "tt0016906 -0.544298  1.238380              Frivolinas  2014.0       0  0.0\n",
       "tt0019996 -0.542016  0.107189                 Hongxia  2011.0       0  0.0\n",
       "tt0035423  6.718399 -1.435780          Kate & Leopold  2001.0       1  1.0"
      ]
     },
     "execution_count": 5,
     "metadata": {},
     "output_type": "execute_result"
    }
   ],
   "source": [
    "stan = StandardScaler()\n",
    "\n",
    "X = stan.fit_transform(movies[X_vars_all])\n",
    "\n",
    "pca = PCA(n_components = 2)\n",
    "movies_pca = pca.fit_transform(X)\n",
    "\n",
    "movies_pca_db_df = pd.DataFrame(index = movies.index, data = movies_pca)\n",
    "movies_pca_db_df['title'] = movies_pca_db_df.index.map(tconst_title)\n",
    "movies_pca_db_df['year']= movies_pca_db_df.index.map(tconst_year)\n",
    "movies_pca_db_df = movies_pca_db_df.merge(movies['Oscars'], left_index = True, right_index = True, how = 'left')\n",
    "\n",
    "movies_pca_db_df.rename(columns = {0: 'pca1', 1: 'pca2'}, inplace = True)\n",
    "movies_pca_db_df['GG']=movies['GG']\n",
    "\n",
    "movies_pca_db_df.head(5)"
   ]
  },
  {
   "cell_type": "code",
   "execution_count": 6,
   "metadata": {},
   "outputs": [
    {
     "data": {
      "text/html": [
       "<div>\n",
       "<style scoped>\n",
       "    .dataframe tbody tr th:only-of-type {\n",
       "        vertical-align: middle;\n",
       "    }\n",
       "\n",
       "    .dataframe tbody tr th {\n",
       "        vertical-align: top;\n",
       "    }\n",
       "\n",
       "    .dataframe thead th {\n",
       "        text-align: right;\n",
       "    }\n",
       "</style>\n",
       "<table border=\"1\" class=\"dataframe\">\n",
       "  <thead>\n",
       "    <tr style=\"text-align: right;\">\n",
       "      <th></th>\n",
       "      <th>pca1</th>\n",
       "      <th>pca2</th>\n",
       "      <th>title</th>\n",
       "      <th>year</th>\n",
       "      <th>Oscars</th>\n",
       "      <th>GG</th>\n",
       "    </tr>\n",
       "    <tr>\n",
       "      <th>tconst</th>\n",
       "      <th></th>\n",
       "      <th></th>\n",
       "      <th></th>\n",
       "      <th></th>\n",
       "      <th></th>\n",
       "      <th></th>\n",
       "    </tr>\n",
       "  </thead>\n",
       "  <tbody>\n",
       "    <tr>\n",
       "      <th>tt7983894</th>\n",
       "      <td>11.942835</td>\n",
       "      <td>2.869009</td>\n",
       "      <td>Ammonite</td>\n",
       "      <td>2020.0</td>\n",
       "      <td>0</td>\n",
       "      <td>0.0</td>\n",
       "    </tr>\n",
       "  </tbody>\n",
       "</table>\n",
       "</div>"
      ],
      "text/plain": [
       "                pca1      pca2     title    year  Oscars   GG\n",
       "tconst                                                       \n",
       "tt7983894  11.942835  2.869009  Ammonite  2020.0       0  0.0"
      ]
     },
     "execution_count": 6,
     "metadata": {},
     "output_type": "execute_result"
    }
   ],
   "source": [
    "movies_pca_db_df[movies_pca_db_df['title']=='Ammonite']"
   ]
  },
  {
   "cell_type": "code",
   "execution_count": 7,
   "metadata": {},
   "outputs": [
    {
     "data": {
      "text/plain": [
       "11.942834911787717"
      ]
     },
     "execution_count": 7,
     "metadata": {},
     "output_type": "execute_result"
    }
   ],
   "source": [
    "movies_pca_db_df.loc['tt7983894','pca1']"
   ]
  },
  {
   "cell_type": "code",
   "execution_count": 8,
   "metadata": {},
   "outputs": [],
   "source": [
    "movies_pca_db_df['dist_to_amm'] = movies_pca_db_df.apply(lambda x: ((x.pca1-movies_pca_db_df.loc['tt7983894','pca1'])**2 \n",
    "                                                         + (x.pca2-movies_pca_db_df.loc['tt7983894','pca2'])**2 )**0.5, axis = 1)"
   ]
  },
  {
   "cell_type": "code",
   "execution_count": 9,
   "metadata": {},
   "outputs": [
    {
     "data": {
      "text/plain": [
       "(0.0, 20.0)"
      ]
     },
     "execution_count": 9,
     "metadata": {},
     "output_type": "execute_result"
    },
    {
     "data": {
      "image/png": "[encoded data removed]",
      "text/plain": [
       "<Figure size 720x432 with 1 Axes>"
      ]
     },
     "metadata": {
      "needs_background": "light"
     },
     "output_type": "display_data"
    }
   ],
   "source": [
    "movies_pca_db_df['dist_to_amm'].plot(kind = 'hist', bins = 1000, figsize = (10,6), color = '#ae8e25');\n",
    "plt.xlim(0,20)"
   ]
  },
  {
   "cell_type": "code",
   "execution_count": 10,
   "metadata": {},
   "outputs": [
    {
     "data": {
      "text/html": [
       "<div>\n",
       "<style scoped>\n",
       "    .dataframe tbody tr th:only-of-type {\n",
       "        vertical-align: middle;\n",
       "    }\n",
       "\n",
       "    .dataframe tbody tr th {\n",
       "        vertical-align: top;\n",
       "    }\n",
       "\n",
       "    .dataframe thead th {\n",
       "        text-align: right;\n",
       "    }\n",
       "</style>\n",
       "<table border=\"1\" class=\"dataframe\">\n",
       "  <thead>\n",
       "    <tr style=\"text-align: right;\">\n",
       "      <th></th>\n",
       "      <th>pca1</th>\n",
       "      <th>pca2</th>\n",
       "      <th>title</th>\n",
       "      <th>year</th>\n",
       "      <th>Oscars</th>\n",
       "      <th>GG</th>\n",
       "      <th>dist_to_amm</th>\n",
       "    </tr>\n",
       "    <tr>\n",
       "      <th>tconst</th>\n",
       "      <th></th>\n",
       "      <th></th>\n",
       "      <th></th>\n",
       "      <th></th>\n",
       "      <th></th>\n",
       "      <th></th>\n",
       "      <th></th>\n",
       "    </tr>\n",
       "  </thead>\n",
       "  <tbody>\n",
       "    <tr>\n",
       "      <th>tt7983894</th>\n",
       "      <td>11.942835</td>\n",
       "      <td>2.869009</td>\n",
       "      <td>Ammonite</td>\n",
       "      <td>2020.0</td>\n",
       "      <td>0</td>\n",
       "      <td>0.0</td>\n",
       "      <td>0.000000</td>\n",
       "    </tr>\n",
       "    <tr>\n",
       "      <th>tt0117791</th>\n",
       "      <td>11.908600</td>\n",
       "      <td>2.756554</td>\n",
       "      <td>Surviving Picasso</td>\n",
       "      <td>1996.0</td>\n",
       "      <td>0</td>\n",
       "      <td>0.0</td>\n",
       "      <td>0.117551</td>\n",
       "    </tr>\n",
       "    <tr>\n",
       "      <th>tt0810819</th>\n",
       "      <td>11.979622</td>\n",
       "      <td>2.690574</td>\n",
       "      <td>The Danish Girl</td>\n",
       "      <td>2015.0</td>\n",
       "      <td>1</td>\n",
       "      <td>1.0</td>\n",
       "      <td>0.182188</td>\n",
       "    </tr>\n",
       "    <tr>\n",
       "      <th>tt0281373</th>\n",
       "      <td>11.948942</td>\n",
       "      <td>2.628950</td>\n",
       "      <td>Snow Dogs</td>\n",
       "      <td>2002.0</td>\n",
       "      <td>0</td>\n",
       "      <td>0.0</td>\n",
       "      <td>0.240137</td>\n",
       "    </tr>\n",
       "    <tr>\n",
       "      <th>tt0120102</th>\n",
       "      <td>12.118405</td>\n",
       "      <td>2.704813</td>\n",
       "      <td>Seven Years in Tibet</td>\n",
       "      <td>1997.0</td>\n",
       "      <td>0</td>\n",
       "      <td>1.0</td>\n",
       "      <td>0.240386</td>\n",
       "    </tr>\n",
       "  </tbody>\n",
       "</table>\n",
       "</div>"
      ],
      "text/plain": [
       "                pca1      pca2                 title    year  Oscars   GG  \\\n",
       "tconst                                                                      \n",
       "tt7983894  11.942835  2.869009              Ammonite  2020.0       0  0.0   \n",
       "tt0117791  11.908600  2.756554     Surviving Picasso  1996.0       0  0.0   \n",
       "tt0810819  11.979622  2.690574       The Danish Girl  2015.0       1  1.0   \n",
       "tt0281373  11.948942  2.628950             Snow Dogs  2002.0       0  0.0   \n",
       "tt0120102  12.118405  2.704813  Seven Years in Tibet  1997.0       0  1.0   \n",
       "\n",
       "           dist_to_amm  \n",
       "tconst                  \n",
       "tt7983894     0.000000  \n",
       "tt0117791     0.117551  \n",
       "tt0810819     0.182188  \n",
       "tt0281373     0.240137  \n",
       "tt0120102     0.240386  "
      ]
     },
     "execution_count": 10,
     "metadata": {},
     "output_type": "execute_result"
    }
   ],
   "source": [
    "like_ammonite = movies_pca_db_df[movies_pca_db_df['dist_to_amm']<=3].sort_values(['dist_to_amm'])\n",
    "like_ammonite.head()"
   ]
  },
  {
   "cell_type": "markdown",
   "metadata": {},
   "source": [
    "#### **Prior**: Approx. 1 in 1000 movies made each year gets nominated for an Academy Award"
   ]
  },
  {
   "cell_type": "code",
   "execution_count": 33,
   "metadata": {},
   "outputs": [
    {
     "data": {
      "text/plain": [
       "(0.0, 0.02)"
      ]
     },
     "execution_count": 33,
     "metadata": {},
     "output_type": "execute_result"
    },
    {
     "data": {
      "image/png": "[encoded data removed]",
      "text/plain": [
       "<Figure size 432x288 with 1 Axes>"
      ]
     },
     "metadata": {
      "needs_background": "light"
     },
     "output_type": "display_data"
    }
   ],
   "source": [
    "alpha_prior = 1 # number of nominated movies \n",
    "beta_prior = 999 - alpha_prior # number of movies which did not get nominated\n",
    "prior_1 = stats.beta(alpha_prior, beta_prior) # distribution based on this limited knowledge\n",
    "\n",
    "plt.plot(np.linspace(0, 1, 10000), prior_1.pdf(np.linspace(0, 1, 10000)), color = '#ae8e25');\n",
    "plt.xlim(0,0.02)"
   ]
  },
  {
   "cell_type": "markdown",
   "metadata": {},
   "source": [
    "#### **Likelihood**: Approx. 1 in 2 movies made each year gets nominated for a Golden Globe given also being nominated for an Academy Award"
   ]
  },
  {
   "cell_type": "code",
   "execution_count": 21,
   "metadata": {},
   "outputs": [
    {
     "data": {
      "text/plain": [
       "(0.0, 1.0)"
      ]
     },
     "execution_count": 21,
     "metadata": {},
     "output_type": "execute_result"
    },
    {
     "data": {
      "image/png": "[encoded data removed]",
      "text/plain": [
       "<Figure size 432x288 with 1 Axes>"
      ]
     },
     "metadata": {
      "needs_background": "light"
     },
     "output_type": "display_data"
    }
   ],
   "source": [
    "alpha_lhood = 10 # number of movies nominated for Golden globe if also nominated for Oscar \n",
    "beta_lhood = 10 #  number of movies nominated for Golden globe if not nominated for Oscar \n",
    "lhood = stats.beta(alpha_lhood, beta_lhood) # distribution based on this limited knowledge\n",
    "\n",
    "plt.plot(np.linspace(0, 1, 10000), lhood.pdf(np.linspace(0, 1, 10000)), color = '#ae8e25', ls = '--');\n",
    "plt.xlim(0,1)"
   ]
  },
  {
   "cell_type": "markdown",
   "metadata": {},
   "source": [
    "#### **Posterior**: probability of a movie getting nominated for an Academy Award given that it was nominated for a Golden Globe"
   ]
  },
  {
   "cell_type": "code",
   "execution_count": 59,
   "metadata": {},
   "outputs": [],
   "source": [
    "class prior:\n",
    "    def __init__(self, alpha0=1, alpha1=1):\n",
    "        \"\"\"Beta prior for binary data.\"\"\"\n",
    "\n",
    "        self.a0 = alpha0\n",
    "        self.a1 = alpha1\n",
    "        self.p0rv = beta(self.a0, self.a1)\n",
    "\n",
    "    def interval(self, prob):\n",
    "        \"\"\"End points for region of pdf containing `prob` of the\n",
    "        pdf-- this uses the cdf and inverse.\n",
    "\n",
    "        Ex: interval(0.95)\n",
    "        \"\"\"\n",
    "\n",
    "        return self.p0rv.interval(prob)\n",
    "\n",
    "    def mean(self):\n",
    "        \"\"\"Returns prior mean.\"\"\"\n",
    "\n",
    "        return self.p0rv.mean()\n",
    "\n",
    "    def pdf(self, p0):\n",
    "        \"\"\"Probability density at p0.\"\"\"\n",
    "\n",
    "        return self.p0rv.pdf(p0)\n",
    "\n",
    "    def plot(self):\n",
    "        \"\"\"A plot showing mean and 95% credible interval.\"\"\"\n",
    "\n",
    "        fig, ax = plt.subplots(1, 1)\n",
    "        x = np.arange(0., 1., 0.01)\n",
    "\n",
    "        # get prior mean p0\n",
    "        mean = self.mean()\n",
    "\n",
    "        # get low/high pts containg 95% probability\n",
    "        low_p0, high_p0 = self.interval(0.95)\n",
    "        x_prob = np.arange(low_p0, high_p0, 0.01)\n",
    "\n",
    "        # plot pdf\n",
    "        ax.plot(x, self.pdf(x), 'r-')\n",
    "\n",
    "        # fill 95% region\n",
    "        ax.fill_between(x_prob, 0, self.pdf(x_prob),\n",
    "                        color='red', alpha=0.2 )\n",
    "\n",
    "        # mean\n",
    "        ax.stem([mean], [self.pdf(mean)], linefmt='r-',\n",
    "                markerfmt='ro', basefmt='w-')\n",
    "\n",
    "        ax.set_xlabel('Probability of Zero')\n",
    "        ax.set_ylabel('Prior PDF')\n",
    "        ax.set_ylim(0., 1.1*np.max(self.pdf(x)))\n",
    "        ax.set_xlim(0., 1.2*(self.a0/(self.a0+self.a1)))\n",
    "\n",
    "        plt.show()"
   ]
  },
  {
   "cell_type": "code",
   "execution_count": 68,
   "metadata": {},
   "outputs": [
    {
     "name": "stderr",
     "output_type": "stream",
     "text": [
      "<ipython-input-59-94d18251c6fd>:49: UserWarning: In Matplotlib 3.3 individual lines on a stem plot will be added as a LineCollection instead of individual lines. This significantly improves the performance of a stem plot. To remove this warning and switch to the new behaviour, set the \"use_line_collection\" keyword argument to True.\n",
      "  ax.stem([mean], [self.pdf(mean)], linefmt='r-',\n"
     ]
    },
    {
     "data": {
      "image/png": "[encoded data removed]",
      "text/plain": [
       "<Figure size 432x288 with 1 Axes>"
      ]
     },
     "metadata": {
      "needs_background": "light"
     },
     "output_type": "display_data"
    }
   ],
   "source": [
    "pri = prior(alpha0 = 1, alpha1 = 1000)\n",
    "pri.plot()"
   ]
  },
  {
   "cell_type": "code",
   "execution_count": 69,
   "metadata": {},
   "outputs": [],
   "source": [
    "class likelihood:\n",
    "    def __init__(self, data):\n",
    "        \"\"\"Likelihood for binary data.\"\"\"\n",
    "        self.counts = {s:0 for s in ['0', '1']}\n",
    "        self._process_data(data)\n",
    "\n",
    "    def _process_data(self, data):\n",
    "        \"\"\"Process data.\"\"\"\n",
    "        temp = [str(x) for x in data]\n",
    "        for s in ['0', '1']:\n",
    "            self.counts[s] = temp.count(s)\n",
    "\n",
    "        if len(temp) != sum(self.counts.values()):\n",
    "            raise Exception(\"Passed data is not all 0`s and 1`s!\")\n",
    "\n",
    "    def _process_probabilities(self, p0):\n",
    "        \"\"\"Process probabilities.\"\"\"\n",
    "        n0 = self.counts['0']\n",
    "        n1 = self.counts['1']\n",
    "\n",
    "        if p0 != 0 and p0 != 1:\n",
    "            # typical case\n",
    "            logpr_data = n0*np.log(p0) + \\\n",
    "                         n1*np.log(1.-p0)\n",
    "            pr_data = np.exp(logpr_data)\n",
    "        elif p0 == 0 and n0 != 0:\n",
    "            # p0 can't be 0 if n0 is not 0\n",
    "            logpr_data = -np.inf\n",
    "            pr_data = np.exp(logpr_data)\n",
    "        elif p0 == 0 and n0 == 0:\n",
    "            # data consistent with p0=0\n",
    "            logpr_data = n1*np.log(1.-p0)\n",
    "            pr_data = np.exp(logpr_data)\n",
    "        elif p0 == 1 and n1 != 0:\n",
    "            # p0 can't be 1 if n1 is not 0\n",
    "            logpr_data = -np.inf\n",
    "            pr_data = np.exp(logpr_data)\n",
    "        elif p0 == 1 and n1 == 0:\n",
    "            # data consistent with p0=1\n",
    "            logpr_data = n0*np.log(p0)\n",
    "            pr_data = np.exp(logpr_data)\n",
    "\n",
    "        return pr_data, logpr_data\n",
    "\n",
    "    def prob(self, p0):\n",
    "        \"\"\"Get probability of data.\"\"\"\n",
    "        pr_data, _ = self._process_probabilities(p0)\n",
    "\n",
    "        return pr_data\n",
    "\n",
    "    def log_prob(self, p0):\n",
    "        \"\"\"Get log of probability of data.\"\"\"\n",
    "        _, logpr_data = self._process_probabilities(p0)\n",
    "\n",
    "        return logpr_data"
   ]
  },
  {
   "cell_type": "code",
   "execution_count": 77,
   "metadata": {},
   "outputs": [],
   "source": [
    "class posterior:\n",
    "    def __init__(self, data, prior):\n",
    "        \"\"\"The posterior.\n",
    "\n",
    "        data: a data sample as list\n",
    "        prior: an instance of the beta prior class\n",
    "        \"\"\"\n",
    "        self.likelihood = likelihood(data)\n",
    "        self.prior = prior\n",
    "\n",
    "        self._process_posterior()\n",
    "\n",
    "    def _process_posterior(self):\n",
    "        \"\"\"Process the posterior using passed data and prior.\"\"\"\n",
    "\n",
    "        # extract n0, n1, a0, a1 from likelihood and prior\n",
    "        self.n0 = self.likelihood.counts['0']\n",
    "        self.n1 = self.likelihood.counts['1']\n",
    "        self.a0 = self.prior.a0\n",
    "        #self.a0 = prior.a0\n",
    "        self.a1 = self.prior.a1\n",
    "        #self.a1 = prior.a1\n",
    "        \n",
    "        self.p0rv = beta(self.a0 + self.n0,\n",
    "                         self.a1 + self.n1)\n",
    "\n",
    "    def interval(self, prob):\n",
    "        \"\"\"End points for region of pdf containing `prob` of the\n",
    "        pdf.\n",
    "\n",
    "        Ex: interval(0.95)\n",
    "        \"\"\"\n",
    "\n",
    "        return self.p0rv.interval(prob)\n",
    "\n",
    "    def mean(self):\n",
    "        \"\"\"Returns posterior mean.\"\"\"\n",
    "\n",
    "        return self.p0rv.mean()\n",
    "    def pdf(self, p0):\n",
    "        \"\"\"Probability density at p0.\"\"\"\n",
    "\n",
    "        return self.p0rv.pdf(p0)\n",
    "\n",
    "    def plot(self):\n",
    "        \"\"\"A plot showing prior, likelihood and posterior.\"\"\"\n",
    "\n",
    "        f, ax= plt.subplots(3, 1, figsize=(8, 6), sharex=True)\n",
    "        x = np.arange(0., 1., 0.01)\n",
    "\n",
    "        ## Prior\n",
    "        # get prior mean p0\n",
    "        pri_mean = self.prior.mean()\n",
    "\n",
    "        # get low/high pts containg 95% probability\n",
    "        pri_low_p0, pri_high_p0 = self.prior.interval(0.95)\n",
    "        pri_x_prob = np.arange(pri_low_p0, pri_high_p0, 0.01)\n",
    "\n",
    "        # plot pdf\n",
    "        ax[0].plot(x, self.prior.pdf(x), 'r-')\n",
    "\n",
    "        # fill 95% region\n",
    "        ax[0].fill_between(pri_x_prob, 0, self.prior.pdf(pri_x_prob),\n",
    "                           color='red', alpha=0.2 )\n",
    "\n",
    "        # mean\n",
    "        ax[0].stem([pri_mean], [self.prior.pdf(pri_mean)],\n",
    "                   linefmt='r-', markerfmt='ro',\n",
    "                   basefmt='w-')\n",
    "\n",
    "        ax[0].set_ylabel('Prior PDF')\n",
    "        ax[0].set_ylim(0., 1.1*np.max(self.prior.pdf(x)))\n",
    "        \n",
    "           ## Likelihood\n",
    "        # plot likelihood\n",
    "        lik = [self.likelihood.prob(xi) for xi in x]\n",
    "        ax[1].plot(x, lik, 'k-')\n",
    "        ax[1].set_ylabel('Likelihood')\n",
    "\n",
    "        ## Posterior\n",
    "        # get posterior mean p0\n",
    "        post_mean = self.mean()\n",
    "\n",
    "        # get low/high pts containg 95% probability\n",
    "        post_low_p0, post_high_p0 = self.interval(0.95)\n",
    "        post_x_prob = np.arange(post_low_p0, post_high_p0, 0.01)\n",
    "\n",
    "        # plot pdf\n",
    "        ax[2].plot(x, self.pdf(x), 'b-')\n",
    "\n",
    "        # fill 95% region\n",
    "        ax[2].fill_between(post_x_prob, 0, self.pdf(post_x_prob),\n",
    "                           color='blue', alpha=0. )\n",
    "\n",
    "        # mean\n",
    "        ax[2].stem([post_mean], [self.pdf(post_mean)],\n",
    "                   linefmt='b-', markerfmt='bo',\n",
    "                   basefmt='w-')\n",
    "\n",
    "        ax[2].set_xlabel('Probability of Zero')\n",
    "        ax[2].set_ylabel('Posterior PDF')\n",
    "        ax[2].set_ylim(0., 1.1*np.max(self.pdf(x)))\n",
    "\n",
    "        plt.show() "
   ]
  },
  {
   "cell_type": "code",
   "execution_count": 78,
   "metadata": {},
   "outputs": [
    {
     "name": "stderr",
     "output_type": "stream",
     "text": [
      "<ipython-input-77-e6eb53c2a1c4>:67: UserWarning: In Matplotlib 3.3 individual lines on a stem plot will be added as a LineCollection instead of individual lines. This significantly improves the performance of a stem plot. To remove this warning and switch to the new behaviour, set the \"use_line_collection\" keyword argument to True.\n",
      "  ax[0].stem([pri_mean], [self.prior.pdf(pri_mean)],\n",
      "<ipython-input-77-e6eb53c2a1c4>:96: UserWarning: In Matplotlib 3.3 individual lines on a stem plot will be added as a LineCollection instead of individual lines. This significantly improves the performance of a stem plot. To remove this warning and switch to the new behaviour, set the \"use_line_collection\" keyword argument to True.\n",
      "  ax[2].stem([post_mean], [self.pdf(post_mean)],\n"
     ]
    },
    {
     "data": {
      "image/png": "[encoded data removed]",
      "text/plain": [
       "<Figure size 576x432 with 3 Axes>"
      ]
     },
     "metadata": {
      "needs_background": "light"
     },
     "output_type": "display_data"
    }
   ],
   "source": [
    "# data\n",
    "data = [0,1,0,1,0,1,0,1,0,1]\n",
    "\n",
    "# posterior\n",
    "post = posterior(data, prior(1,1000))\n",
    "post.plot()"
   ]
  },
  {
   "cell_type": "code",
   "execution_count": 79,
   "metadata": {},
   "outputs": [
    {
     "data": {
      "text/plain": [
       "0.005689900426742532"
      ]
     },
     "execution_count": 79,
     "metadata": {},
     "output_type": "execute_result"
    }
   ],
   "source": [
    "movies['GG'].mean()"
   ]
  },
  {
   "cell_type": "code",
   "execution_count": null,
   "metadata": {},
   "outputs": [],
   "source": []
  },
  {
   "cell_type": "code",
   "execution_count": null,
   "metadata": {},
   "outputs": [],
   "source": []
  },
  {
   "cell_type": "markdown",
   "metadata": {},
   "source": [
    "***\n",
    "***"
   ]
  },
  {
   "cell_type": "markdown",
   "metadata": {},
   "source": [
    "1. Starting with movies from 1990-1999, define a uniform distribution for prob of a movie winning Best Pic (the initial prior)"
   ]
  },
  {
   "cell_type": "code",
   "execution_count": 11,
   "metadata": {},
   "outputs": [
    {
     "data": {
      "text/plain": [
       "(0.0, 0.01)"
      ]
     },
     "execution_count": 11,
     "metadata": {},
     "output_type": "execute_result"
    },
    {
     "data": {
      "image/png": "[encoded data removed]",
      "text/plain": [
       "<Figure size 432x288 with 1 Axes>"
      ]
     },
     "metadata": {
      "needs_background": "light"
     },
     "output_type": "display_data"
    }
   ],
   "source": [
    "alpha_prior = movies[movies['startYear']<2020]['Oscars'].sum() # number of movies  which were nominated or won for an Academy Award in 2990-2020\n",
    "beta_prior = movies[movies['startYear']<2020].shape[0] - alpha_prior # number of movies which did not win in that period\n",
    "prior = stats.beta(alpha_prior, beta_prior) # distribution based on this limited knowledge\n",
    "\n",
    "plt.plot(np.linspace(0, 1, 1000), prior.pdf(np.linspace(0, 1, 1000)), color = '#ae8e25');\n",
    "plt.xlim(0,0.01)"
   ]
  },
  {
   "cell_type": "code",
   "execution_count": 12,
   "metadata": {},
   "outputs": [
    {
     "data": {
      "text/plain": [
       "0.006813020439061317"
      ]
     },
     "execution_count": 12,
     "metadata": {},
     "output_type": "execute_result"
    }
   ],
   "source": [
    "prior.mean()"
   ]
  },
  {
   "cell_type": "code",
   "execution_count": 13,
   "metadata": {},
   "outputs": [],
   "source": [
    "tconst_cluster = pickle.load(open('../pickles/tconst_cluster.p', 'rb'))"
   ]
  },
  {
   "cell_type": "markdown",
   "metadata": {},
   "source": [
    "2. likelihood???: probability of receiving an Academy nomination, given that the movie already has a Golden Globe nomination"
   ]
  },
  {
   "cell_type": "code",
   "execution_count": 14,
   "metadata": {},
   "outputs": [
    {
     "data": {
      "text/plain": [
       "0.6171875"
      ]
     },
     "execution_count": 14,
     "metadata": {},
     "output_type": "execute_result"
    }
   ],
   "source": [
    "like_ammonite[(like_ammonite['Oscars']==1) & (like_ammonite['GG']==1)].shape[0]/like_ammonite[like_ammonite['GG']==1].shape[0]"
   ]
  },
  {
   "cell_type": "code",
   "execution_count": 15,
   "metadata": {},
   "outputs": [
    {
     "data": {
      "image/png": "[encoded data removed]",
      "text/plain": [
       "<Figure size 1152x432 with 2 Axes>"
      ]
     },
     "metadata": {
      "needs_background": "light"
     },
     "output_type": "display_data"
    }
   ],
   "source": [
    "plt.figure(figsize = (16,6))\n",
    "plt.subplot(1,2,1)\n",
    "alpha_prior = movies[movies['startYear']<2020]['GG'].sum() # number of movies  which were nominated or won for an Academy Award in 2990-2020\n",
    "beta_prior = movies[movies['startYear']<2020].shape[0] - alpha_prior # number of movies which did not win in that period\n",
    "prior_distn = stats.beta(alpha_prior, beta_prior) # distribution based on this limited knowledge\n",
    "plt.plot(np.linspace(0, 1, 1000), prior_distn.pdf(np.linspace(0, 1, 1000)), color = '#ae8e25', ls = '--')\n",
    "plt.xlim(0,0.08)\n",
    "\n",
    "plt.subplot(1,2,2)\n",
    "alpha_lhood = like_ammonite[(like_ammonite['Oscars']==1) & (like_ammonite['GG']==1)].shape[0] # number of movies  which were nominated or won for an Academy Award in 2990-2020\n",
    "beta_lhood = like_ammonite[(like_ammonite['Oscars']==0) & (like_ammonite['GG']==1)].shape[0] # number of movies which did not win in that period\n",
    "likelihood = stats.beta(alpha_lhood, beta_lhood) # distribution based on this limited knowledge\n",
    "\n",
    "plt.plot(np.linspace(0, 1, 1000), likelihood.pdf(np.linspace(0, 1, 1000)), color = '#ebdaa4');"
   ]
  },
  {
   "cell_type": "markdown",
   "metadata": {},
   "source": [
    "3. Posterior"
   ]
  },
  {
   "cell_type": "code",
   "execution_count": 16,
   "metadata": {},
   "outputs": [
    {
     "data": {
      "text/plain": [
       "0.00012772375322964928"
      ]
     },
     "execution_count": 16,
     "metadata": {},
     "output_type": "execute_result"
    }
   ],
   "source": [
    "prior.pdf(0.008)"
   ]
  },
  {
   "cell_type": "code",
   "execution_count": 17,
   "metadata": {},
   "outputs": [
    {
     "data": {
      "text/plain": [
       "7.137377024652714"
      ]
     },
     "execution_count": 17,
     "metadata": {},
     "output_type": "execute_result"
    }
   ],
   "source": [
    "likelihood.pdf(0.65)"
   ]
  },
  {
   "cell_type": "code",
   "execution_count": 18,
   "metadata": {},
   "outputs": [
    {
     "data": {
      "text/plain": [
       "0.0009116125818037117"
      ]
     },
     "execution_count": 18,
     "metadata": {},
     "output_type": "execute_result"
    }
   ],
   "source": [
    "prior.pdf(0.008)*likelihood.pdf(0.65)"
   ]
  },
  {
   "cell_type": "code",
   "execution_count": 19,
   "metadata": {},
   "outputs": [
    {
     "ename": "TypeError",
     "evalue": "unsupported operand type(s) for *: 'rv_frozen' and 'rv_frozen'",
     "output_type": "error",
     "traceback": [
      "\u001b[0;31m---------------------------------------------------------------------------\u001b[0m",
      "\u001b[0;31mTypeError\u001b[0m                                 Traceback (most recent call last)",
      "\u001b[0;32m<ipython-input-19-1607a433b5ac>\u001b[0m in \u001b[0;36m<module>\u001b[0;34m\u001b[0m\n\u001b[0;32m----> 1\u001b[0;31m \u001b[0mposterior\u001b[0m \u001b[0;34m=\u001b[0m \u001b[0mnp\u001b[0m\u001b[0;34m.\u001b[0m\u001b[0mmultiply\u001b[0m\u001b[0;34m(\u001b[0m\u001b[0mprior\u001b[0m\u001b[0;34m,\u001b[0m \u001b[0mlikelihood\u001b[0m\u001b[0;34m)\u001b[0m\u001b[0;34m\u001b[0m\u001b[0;34m\u001b[0m\u001b[0m\n\u001b[0m",
      "\u001b[0;31mTypeError\u001b[0m: unsupported operand type(s) for *: 'rv_frozen' and 'rv_frozen'"
     ]
    }
   ],
   "source": [
    "posterior = np.multiply(prior, likelihood)"
   ]
  },
  {
   "cell_type": "code",
   "execution_count": null,
   "metadata": {},
   "outputs": [],
   "source": [
    "def plot_bayes(alpha_prior , beta_prior, alpha_lhood, beta_lhood, steps = 100):\n",
    "    plt.figure(figsize = (16, 6))\n",
    "    \n",
    "    # Generate x values in the appropriate\n",
    "    # range to use for plotting:\n",
    "    lst = np.linspace(0, 1, steps)\n",
    "    \n",
    "    # Calculating prior, likelihood, and posterior.\n",
    "    prior = [beta(alpha_prior, beta_prior).pdf(i) for i in lst]\n",
    "    likelihood = [beta(alpha_lhood, beta_lhood).pdf(i) for i in lst]\n",
    "    posterior = np.multiply(prior, likelihood)\n",
    "    \n",
    "    # Plotting colored lines here to show prior mode, the maximum likelihood value, and posterior mode.\n",
    "    plt.vlines([(alpha_prior - 1) / (alpha_prior + beta_prior - 2), (alpha_lhood - 1) / (alpha_lhood + beta_lhood - 2) ],\n",
    "               ymin = 0,\n",
    "               ymax = max(max(prior), max(likelihood), max(posterior)), # height of dotted lines\n",
    "               linestyles = 'dashed',\n",
    "               colors = ['tab:orange', 'tab:green', 'tab:blue'])\n",
    "    \n",
    "    # Plotting prior, likelihood, and posterior.\n",
    "    plt.title(\"Prior, Likelihood, and Posterior\", fontsize = 24)\n",
    "    plt.plot(lst, prior, c = 'tab:orange', label = 'Prior')\n",
    "    plt.plot(lst, likelihood, c = 'tab:green', label = 'Likelihood')\n",
    "    plt.plot(lst, posterior, c = 'tab:blue', label = 'Posterior')\n",
    "    \n",
    "    plt.xticks(fontsize = 16)\n",
    "    plt.yticks([])\n",
    "    \n",
    "    # Control y limits.\n",
    "    plt.ylim(0, min(max(likelihood), max(posterior)) * 1.1) # You can comment this out to see it all on 1 plot.\n",
    "    #plt.ylim(100)\n",
    "    plt.legend(fontsize = 18);"
   ]
  },
  {
   "cell_type": "code",
   "execution_count": null,
   "metadata": {},
   "outputs": [],
   "source": [
    "plot_bayes(alpha_prior , beta_prior, alpha_lhood, beta_lhood, steps = 100)"
   ]
  },
  {
   "cell_type": "code",
   "execution_count": 22,
   "metadata": {},
   "outputs": [
    {
     "data": {
      "image/png": "[encoded data removed]",
      "text/plain": [
       "<Figure size 1152x432 with 1 Axes>"
      ]
     },
     "metadata": {
      "needs_background": "light"
     },
     "output_type": "display_data"
    }
   ],
   "source": [
    "from scipy import stats\n",
    "import statsmodels.api as sm\n",
    "import matplotlib.pyplot as plt\n",
    "\n",
    "N = 100000\n",
    "\n",
    "y = stats.beta(alpha_prior, beta_prior).rvs(N)\n",
    "x = stats.beta(alpha_lhood, beta_lhood).rvs(N)\n",
    "z = x*y\n",
    "dens_z = sm.nonparametric.KDEUnivariate(z)\n",
    "dens_z.fit()\n",
    "\n",
    "dens_x = sm.nonparametric.KDEUnivariate(x)\n",
    "dens_x.fit()\n",
    "\n",
    "dens_y = sm.nonparametric.KDEUnivariate(y)\n",
    "dens_y.fit()\n",
    "\n",
    "fig, ax = plt.subplots(figsize = (16,6))\n",
    "ax.plot(dens_z.support, dens_z.density, label='z')\n",
    "ax.plot(dens_x.support, dens_x.density, label='x')\n",
    "ax.plot(dens_y.support, dens_y.density, label='y')\n",
    "ax.legend()\n",
    "plt.draw_if_interactive()"
   ]
  },
  {
   "cell_type": "code",
   "execution_count": null,
   "metadata": {},
   "outputs": [],
   "source": []
  }
 ],
 "metadata": {
  "kernelspec": {
   "display_name": "Python 3",
   "language": "python",
   "name": "python3"
  },
  "language_info": {
   "codemirror_mode": {
    "name": "ipython",
    "version": 3
   },
   "file_extension": ".py",
   "mimetype": "text/x-python",
   "name": "python",
   "nbconvert_exporter": "python",
   "pygments_lexer": "ipython3",
   "version": "3.8.3"
  }
 },
 "nbformat": 4,
 "nbformat_minor": 4
}
