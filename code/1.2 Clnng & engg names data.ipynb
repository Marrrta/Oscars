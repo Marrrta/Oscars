{
 "cells": [
  {
   "cell_type": "code",
   "execution_count": 1,
   "metadata": {},
   "outputs": [],
   "source": [
    "import pandas as pd\n",
    "import numpy as np\n",
    "from collections import Counter\n",
    "import pickle"
   ]
  },
  {
   "cell_type": "markdown",
   "metadata": {},
   "source": [
    "#### _This notebook was used for cleaning and enriching the dataset describing each professional identifiable thorugh the `nconst` key._"
   ]
  },
  {
   "cell_type": "markdown",
   "metadata": {},
   "source": [
    "***\n",
    "### Step 1: Basic cleaning"
   ]
  },
  {
   "cell_type": "markdown",
   "metadata": {},
   "source": [
    "**NOTE:** <br>\n",
    "Due to the size of the raw data, it is not included in the repo. The `name.basics.tsv` can be obtained from https://www.imdb.com/interfaces/, within the limits of the T&Cs listed under the link."
   ]
  },
  {
   "cell_type": "code",
   "execution_count": 2,
   "metadata": {},
   "outputs": [],
   "source": [
    "name_basics = pd.read_csv('../data/name.basics.tsv', delimiter = '\\t') "
   ]
  },
  {
   "cell_type": "code",
   "execution_count": 3,
   "metadata": {},
   "outputs": [
    {
     "data": {
      "text/html": [
       "<div>\n",
       "<style scoped>\n",
       "    .dataframe tbody tr th:only-of-type {\n",
       "        vertical-align: middle;\n",
       "    }\n",
       "\n",
       "    .dataframe tbody tr th {\n",
       "        vertical-align: top;\n",
       "    }\n",
       "\n",
       "    .dataframe thead th {\n",
       "        text-align: right;\n",
       "    }\n",
       "</style>\n",
       "<table border=\"1\" class=\"dataframe\">\n",
       "  <thead>\n",
       "    <tr style=\"text-align: right;\">\n",
       "      <th></th>\n",
       "      <th>nconst</th>\n",
       "      <th>primaryName</th>\n",
       "      <th>birthYear</th>\n",
       "      <th>deathYear</th>\n",
       "      <th>primaryProfession</th>\n",
       "      <th>knownForTitles</th>\n",
       "    </tr>\n",
       "  </thead>\n",
       "  <tbody>\n",
       "    <tr>\n",
       "      <th>0</th>\n",
       "      <td>nm0000001</td>\n",
       "      <td>Fred Astaire</td>\n",
       "      <td>1899</td>\n",
       "      <td>1987</td>\n",
       "      <td>soundtrack,actor,miscellaneous</td>\n",
       "      <td>tt0072308,tt0031983,tt0050419,tt0053137</td>\n",
       "    </tr>\n",
       "    <tr>\n",
       "      <th>1</th>\n",
       "      <td>nm0000002</td>\n",
       "      <td>Lauren Bacall</td>\n",
       "      <td>1924</td>\n",
       "      <td>2014</td>\n",
       "      <td>actress,soundtrack</td>\n",
       "      <td>tt0038355,tt0071877,tt0117057,tt0037382</td>\n",
       "    </tr>\n",
       "    <tr>\n",
       "      <th>2</th>\n",
       "      <td>nm0000003</td>\n",
       "      <td>Brigitte Bardot</td>\n",
       "      <td>1934</td>\n",
       "      <td>\\N</td>\n",
       "      <td>actress,soundtrack,music_department</td>\n",
       "      <td>tt0054452,tt0049189,tt0057345,tt0059956</td>\n",
       "    </tr>\n",
       "    <tr>\n",
       "      <th>3</th>\n",
       "      <td>nm0000004</td>\n",
       "      <td>John Belushi</td>\n",
       "      <td>1949</td>\n",
       "      <td>1982</td>\n",
       "      <td>actor,soundtrack,writer</td>\n",
       "      <td>tt0078723,tt0072562,tt0080455,tt0077975</td>\n",
       "    </tr>\n",
       "    <tr>\n",
       "      <th>4</th>\n",
       "      <td>nm0000005</td>\n",
       "      <td>Ingmar Bergman</td>\n",
       "      <td>1918</td>\n",
       "      <td>2007</td>\n",
       "      <td>writer,director,actor</td>\n",
       "      <td>tt0050976,tt0083922,tt0060827,tt0050986</td>\n",
       "    </tr>\n",
       "    <tr>\n",
       "      <th>5</th>\n",
       "      <td>nm0000006</td>\n",
       "      <td>Ingrid Bergman</td>\n",
       "      <td>1915</td>\n",
       "      <td>1982</td>\n",
       "      <td>actress,soundtrack,producer</td>\n",
       "      <td>tt0038787,tt0038109,tt0077711,tt0034583</td>\n",
       "    </tr>\n",
       "    <tr>\n",
       "      <th>6</th>\n",
       "      <td>nm0000007</td>\n",
       "      <td>Humphrey Bogart</td>\n",
       "      <td>1899</td>\n",
       "      <td>1957</td>\n",
       "      <td>actor,soundtrack,producer</td>\n",
       "      <td>tt0034583,tt0043265,tt0040897,tt0033870</td>\n",
       "    </tr>\n",
       "    <tr>\n",
       "      <th>7</th>\n",
       "      <td>nm0000008</td>\n",
       "      <td>Marlon Brando</td>\n",
       "      <td>1924</td>\n",
       "      <td>2004</td>\n",
       "      <td>actor,soundtrack,director</td>\n",
       "      <td>tt0068646,tt0047296,tt0078788,tt0070849</td>\n",
       "    </tr>\n",
       "    <tr>\n",
       "      <th>8</th>\n",
       "      <td>nm0000009</td>\n",
       "      <td>Richard Burton</td>\n",
       "      <td>1925</td>\n",
       "      <td>1984</td>\n",
       "      <td>actor,soundtrack,producer</td>\n",
       "      <td>tt0057877,tt0059749,tt0087803,tt0061184</td>\n",
       "    </tr>\n",
       "    <tr>\n",
       "      <th>9</th>\n",
       "      <td>nm0000010</td>\n",
       "      <td>James Cagney</td>\n",
       "      <td>1899</td>\n",
       "      <td>1986</td>\n",
       "      <td>actor,soundtrack,director</td>\n",
       "      <td>tt0029870,tt0031867,tt0042041,tt0035575</td>\n",
       "    </tr>\n",
       "  </tbody>\n",
       "</table>\n",
       "</div>"
      ],
      "text/plain": [
       "      nconst      primaryName birthYear deathYear  \\\n",
       "0  nm0000001     Fred Astaire      1899      1987   \n",
       "1  nm0000002    Lauren Bacall      1924      2014   \n",
       "2  nm0000003  Brigitte Bardot      1934        \\N   \n",
       "3  nm0000004     John Belushi      1949      1982   \n",
       "4  nm0000005   Ingmar Bergman      1918      2007   \n",
       "5  nm0000006   Ingrid Bergman      1915      1982   \n",
       "6  nm0000007  Humphrey Bogart      1899      1957   \n",
       "7  nm0000008    Marlon Brando      1924      2004   \n",
       "8  nm0000009   Richard Burton      1925      1984   \n",
       "9  nm0000010     James Cagney      1899      1986   \n",
       "\n",
       "                     primaryProfession  \\\n",
       "0       soundtrack,actor,miscellaneous   \n",
       "1                   actress,soundtrack   \n",
       "2  actress,soundtrack,music_department   \n",
       "3              actor,soundtrack,writer   \n",
       "4                writer,director,actor   \n",
       "5          actress,soundtrack,producer   \n",
       "6            actor,soundtrack,producer   \n",
       "7            actor,soundtrack,director   \n",
       "8            actor,soundtrack,producer   \n",
       "9            actor,soundtrack,director   \n",
       "\n",
       "                            knownForTitles  \n",
       "0  tt0072308,tt0031983,tt0050419,tt0053137  \n",
       "1  tt0038355,tt0071877,tt0117057,tt0037382  \n",
       "2  tt0054452,tt0049189,tt0057345,tt0059956  \n",
       "3  tt0078723,tt0072562,tt0080455,tt0077975  \n",
       "4  tt0050976,tt0083922,tt0060827,tt0050986  \n",
       "5  tt0038787,tt0038109,tt0077711,tt0034583  \n",
       "6  tt0034583,tt0043265,tt0040897,tt0033870  \n",
       "7  tt0068646,tt0047296,tt0078788,tt0070849  \n",
       "8  tt0057877,tt0059749,tt0087803,tt0061184  \n",
       "9  tt0029870,tt0031867,tt0042041,tt0035575  "
      ]
     },
     "execution_count": 3,
     "metadata": {},
     "output_type": "execute_result"
    }
   ],
   "source": [
    "name_basics.head(10)"
   ]
  },
  {
   "cell_type": "code",
   "execution_count": 4,
   "metadata": {},
   "outputs": [
    {
     "data": {
      "text/plain": [
       "(10653189, 6)"
      ]
     },
     "execution_count": 4,
     "metadata": {},
     "output_type": "execute_result"
    }
   ],
   "source": [
    "name_basics.shape"
   ]
  },
  {
   "cell_type": "code",
   "execution_count": 5,
   "metadata": {},
   "outputs": [],
   "source": [
    "name_basics['birthYear'] = name_basics['birthYear'].apply(lambda x: int(x) if x != '\\\\N' else np.nan)"
   ]
  },
  {
   "cell_type": "code",
   "execution_count": 6,
   "metadata": {},
   "outputs": [],
   "source": [
    "name_basics['deathYear'] = name_basics['deathYear'].apply(lambda x: int(x) if x != '\\\\N' else np.nan)"
   ]
  },
  {
   "cell_type": "code",
   "execution_count": 7,
   "metadata": {},
   "outputs": [
    {
     "data": {
      "text/plain": [
       "nconst                object\n",
       "primaryName           object\n",
       "birthYear            float64\n",
       "deathYear            float64\n",
       "primaryProfession     object\n",
       "knownForTitles        object\n",
       "dtype: object"
      ]
     },
     "execution_count": 7,
     "metadata": {},
     "output_type": "execute_result"
    }
   ],
   "source": [
    "name_basics.dtypes"
   ]
  },
  {
   "cell_type": "markdown",
   "metadata": {},
   "source": [
    "***\n",
    "### Step 2: Data engineering"
   ]
  },
  {
   "cell_type": "markdown",
   "metadata": {},
   "source": [
    "#### 2.1. Extracting gender information from `primaryName` (for all names) and `primaryProfession` (only for \"actor\"/\"actress\")"
   ]
  },
  {
   "cell_type": "markdown",
   "metadata": {},
   "source": [
    "2.1.1. Extracting first name from `primaryName`"
   ]
  },
  {
   "cell_type": "code",
   "execution_count": 8,
   "metadata": {},
   "outputs": [],
   "source": [
    "name_basics['first_name'] = name_basics['primaryName'].apply(lambda x: x.split(\" \")[0])"
   ]
  },
  {
   "cell_type": "markdown",
   "metadata": {},
   "source": [
    "2.1.2. Evaluating columns with multiple values"
   ]
  },
  {
   "cell_type": "code",
   "execution_count": 9,
   "metadata": {},
   "outputs": [
    {
     "data": {
      "text/plain": [
       "2"
      ]
     },
     "execution_count": 9,
     "metadata": {},
     "output_type": "execute_result"
    }
   ],
   "source": [
    "name_basics['primaryProfession'].apply(lambda x: str(x).count(\",\")).max() # there is a max of 3 professions per name"
   ]
  },
  {
   "cell_type": "code",
   "execution_count": 10,
   "metadata": {},
   "outputs": [
    {
     "data": {
      "text/plain": [
       "6"
      ]
     },
     "execution_count": 10,
     "metadata": {},
     "output_type": "execute_result"
    }
   ],
   "source": [
    "name_basics['knownForTitles'].apply(lambda x: str(x).count(\",\")).max() # there is a max of 7 titles per name"
   ]
  },
  {
   "cell_type": "markdown",
   "metadata": {},
   "source": [
    "2.1.3. Extracting unique professions from column `primaryProfession` for future use in gender determination (\"actor\" vs \"actress\")"
   ]
  },
  {
   "cell_type": "code",
   "execution_count": 11,
   "metadata": {},
   "outputs": [],
   "source": [
    "professions = []\n",
    "for i in range(len(name_basics)):\n",
    "    if type(name_basics['primaryProfession'][i]) == str:\n",
    "        for j in range(name_basics['primaryProfession'][i].count(\",\")+1):\n",
    "            professions.append(name_basics['primaryProfession'][i].split(\",\")[j])"
   ]
  },
  {
   "cell_type": "code",
   "execution_count": 12,
   "metadata": {},
   "outputs": [
    {
     "data": {
      "text/plain": [
       "Counter({'soundtrack': 136782,\n",
       "         'actor': 2453911,\n",
       "         'miscellaneous': 1085561,\n",
       "         'actress': 1487353,\n",
       "         'music_department': 200268,\n",
       "         'writer': 698775,\n",
       "         'director': 569304,\n",
       "         'producer': 922375,\n",
       "         'make_up_department': 180459,\n",
       "         'composer': 256861,\n",
       "         'assistant_director': 206944,\n",
       "         'camera_department': 631929,\n",
       "         'editor': 279750,\n",
       "         'cinematographer': 298429,\n",
       "         'casting_director': 25881,\n",
       "         'script_department': 64208,\n",
       "         'art_director': 75587,\n",
       "         'stunts': 72052,\n",
       "         'editorial_department': 150806,\n",
       "         'costume_department': 122174,\n",
       "         'animation_department': 165753,\n",
       "         'art_department': 368408,\n",
       "         'executive': 25623,\n",
       "         'special_effects': 56827,\n",
       "         'production_designer': 66670,\n",
       "         'production_manager': 173603,\n",
       "         'sound_department': 316864,\n",
       "         'talent_agent': 12063,\n",
       "         'casting_department': 45290,\n",
       "         'costume_designer': 62536,\n",
       "         'visual_effects': 182136,\n",
       "         'location_management': 63602,\n",
       "         'manager': 11473,\n",
       "         'set_decorator': 45288,\n",
       "         'transportation_department': 78560,\n",
       "         'publicist': 3479,\n",
       "         'legal': 3321,\n",
       "         'assistant': 3086,\n",
       "         'electrical_department': 9,\n",
       "         'production_department': 6,\n",
       "         'choreographer': 1})"
      ]
     },
     "execution_count": 12,
     "metadata": {},
     "output_type": "execute_result"
    }
   ],
   "source": [
    "ctr_prof = Counter(professions)\n",
    "ctr_prof"
   ]
  },
  {
   "cell_type": "markdown",
   "metadata": {},
   "source": [
    "2.1.4. Assigning gender to professionals identified as \"actor\" or  \"actress\""
   ]
  },
  {
   "cell_type": "code",
   "execution_count": 13,
   "metadata": {},
   "outputs": [],
   "source": [
    "name_basics['gender'] = name_basics['primaryProfession'].apply(lambda x: 'F' if 'actress' in str(x) else 'M' if 'actor' in str(x) else 'tbd')"
   ]
  },
  {
   "cell_type": "code",
   "execution_count": 14,
   "metadata": {},
   "outputs": [
    {
     "data": {
      "text/plain": [
       "tbd    0.630057\n",
       "M      0.230327\n",
       "F      0.139616\n",
       "Name: gender, dtype: float64"
      ]
     },
     "execution_count": 14,
     "metadata": {},
     "output_type": "execute_result"
    }
   ],
   "source": [
    "name_basics['gender'].value_counts(normalize=True)"
   ]
  },
  {
   "cell_type": "markdown",
   "metadata": {},
   "source": [
    "2.1.5. Assigning gender to professionals not identified as \"actor\" or \"actress\", using the `first_name` column"
   ]
  },
  {
   "cell_type": "code",
   "execution_count": 15,
   "metadata": {},
   "outputs": [],
   "source": [
    "# loading the gender classifier model using last one, two, three, and four letters of first name as determinants of gender (see notebook \"Gender from name\")\n",
    "\n",
    "gender_classifier = pickle.load(open('../pickles/gender_from_name.p', 'rb'))"
   ]
  },
  {
   "cell_type": "code",
   "execution_count": 16,
   "metadata": {},
   "outputs": [],
   "source": [
    "# the function below takes in a first name and builds from it a dictionary of the last one, two, three, and four letters, which reliably identify \n",
    "# whether the holder of the name is a man or a woman\n",
    "\n",
    "def gender_indicators(name):\n",
    "    return {'last': name[-1],'last_two': name[-2:],'last_three': name[-3:], 'last_four': name[-4:]}"
   ]
  },
  {
   "cell_type": "code",
   "execution_count": 17,
   "metadata": {},
   "outputs": [],
   "source": [
    "# applying `gender_classifier` to those names in the dataset whose gender is not identifiable from `primaryProfession`\n",
    "\n",
    "name_basics['gender'] = name_basics.apply(lambda x: gender_classifier.classify(gender_indicators(x.first_name)) if x.gender == 'tbd' else x.gender, axis = 1)"
   ]
  },
  {
   "cell_type": "code",
   "execution_count": 18,
   "metadata": {},
   "outputs": [],
   "source": [
    "# standardizing `primaryProfession` by replacing gender-specific \"actress\" label with a general \"actor\" (all other profession labels are gender-neutral)\n",
    "\n",
    "name_basics['primaryProfession'] = name_basics['primaryProfession'].str.replace('actress', 'actor')"
   ]
  },
  {
   "cell_type": "code",
   "execution_count": 19,
   "metadata": {},
   "outputs": [
    {
     "data": {
      "text/html": [
       "<div>\n",
       "<style scoped>\n",
       "    .dataframe tbody tr th:only-of-type {\n",
       "        vertical-align: middle;\n",
       "    }\n",
       "\n",
       "    .dataframe tbody tr th {\n",
       "        vertical-align: top;\n",
       "    }\n",
       "\n",
       "    .dataframe thead th {\n",
       "        text-align: right;\n",
       "    }\n",
       "</style>\n",
       "<table border=\"1\" class=\"dataframe\">\n",
       "  <thead>\n",
       "    <tr style=\"text-align: right;\">\n",
       "      <th></th>\n",
       "      <th>primaryName</th>\n",
       "      <th>birthYear</th>\n",
       "      <th>deathYear</th>\n",
       "      <th>primaryProfession</th>\n",
       "      <th>knownForTitles</th>\n",
       "      <th>first_name</th>\n",
       "      <th>gender</th>\n",
       "    </tr>\n",
       "    <tr>\n",
       "      <th>nconst</th>\n",
       "      <th></th>\n",
       "      <th></th>\n",
       "      <th></th>\n",
       "      <th></th>\n",
       "      <th></th>\n",
       "      <th></th>\n",
       "      <th></th>\n",
       "    </tr>\n",
       "  </thead>\n",
       "  <tbody>\n",
       "    <tr>\n",
       "      <th>nm0000001</th>\n",
       "      <td>Fred Astaire</td>\n",
       "      <td>1899.0</td>\n",
       "      <td>1987.0</td>\n",
       "      <td>soundtrack,actor,miscellaneous</td>\n",
       "      <td>tt0072308,tt0031983,tt0050419,tt0053137</td>\n",
       "      <td>Fred</td>\n",
       "      <td>M</td>\n",
       "    </tr>\n",
       "    <tr>\n",
       "      <th>nm0000002</th>\n",
       "      <td>Lauren Bacall</td>\n",
       "      <td>1924.0</td>\n",
       "      <td>2014.0</td>\n",
       "      <td>actor,soundtrack</td>\n",
       "      <td>tt0038355,tt0071877,tt0117057,tt0037382</td>\n",
       "      <td>Lauren</td>\n",
       "      <td>F</td>\n",
       "    </tr>\n",
       "    <tr>\n",
       "      <th>nm0000003</th>\n",
       "      <td>Brigitte Bardot</td>\n",
       "      <td>1934.0</td>\n",
       "      <td>NaN</td>\n",
       "      <td>actor,soundtrack,music_department</td>\n",
       "      <td>tt0054452,tt0049189,tt0057345,tt0059956</td>\n",
       "      <td>Brigitte</td>\n",
       "      <td>F</td>\n",
       "    </tr>\n",
       "    <tr>\n",
       "      <th>nm0000004</th>\n",
       "      <td>John Belushi</td>\n",
       "      <td>1949.0</td>\n",
       "      <td>1982.0</td>\n",
       "      <td>actor,soundtrack,writer</td>\n",
       "      <td>tt0078723,tt0072562,tt0080455,tt0077975</td>\n",
       "      <td>John</td>\n",
       "      <td>M</td>\n",
       "    </tr>\n",
       "    <tr>\n",
       "      <th>nm0000005</th>\n",
       "      <td>Ingmar Bergman</td>\n",
       "      <td>1918.0</td>\n",
       "      <td>2007.0</td>\n",
       "      <td>writer,director,actor</td>\n",
       "      <td>tt0050976,tt0083922,tt0060827,tt0050986</td>\n",
       "      <td>Ingmar</td>\n",
       "      <td>M</td>\n",
       "    </tr>\n",
       "  </tbody>\n",
       "</table>\n",
       "</div>"
      ],
      "text/plain": [
       "               primaryName  birthYear  deathYear  \\\n",
       "nconst                                             \n",
       "nm0000001     Fred Astaire     1899.0     1987.0   \n",
       "nm0000002    Lauren Bacall     1924.0     2014.0   \n",
       "nm0000003  Brigitte Bardot     1934.0        NaN   \n",
       "nm0000004     John Belushi     1949.0     1982.0   \n",
       "nm0000005   Ingmar Bergman     1918.0     2007.0   \n",
       "\n",
       "                           primaryProfession  \\\n",
       "nconst                                         \n",
       "nm0000001     soundtrack,actor,miscellaneous   \n",
       "nm0000002                   actor,soundtrack   \n",
       "nm0000003  actor,soundtrack,music_department   \n",
       "nm0000004            actor,soundtrack,writer   \n",
       "nm0000005              writer,director,actor   \n",
       "\n",
       "                                    knownForTitles first_name gender  \n",
       "nconst                                                                \n",
       "nm0000001  tt0072308,tt0031983,tt0050419,tt0053137       Fred      M  \n",
       "nm0000002  tt0038355,tt0071877,tt0117057,tt0037382     Lauren      F  \n",
       "nm0000003  tt0054452,tt0049189,tt0057345,tt0059956   Brigitte      F  \n",
       "nm0000004  tt0078723,tt0072562,tt0080455,tt0077975       John      M  \n",
       "nm0000005  tt0050976,tt0083922,tt0060827,tt0050986     Ingmar      M  "
      ]
     },
     "execution_count": 19,
     "metadata": {},
     "output_type": "execute_result"
    }
   ],
   "source": [
    "name_basics.set_index('nconst', inplace = True)\n",
    "name_basics.head()"
   ]
  },
  {
   "cell_type": "code",
   "execution_count": 20,
   "metadata": {},
   "outputs": [],
   "source": [
    "name_basics.to_csv('../data/name_basics_ce.csv', index_label = 'nconst')"
   ]
  },
  {
   "cell_type": "markdown",
   "metadata": {},
   "source": [
    "***\n",
    "### Step 3: Exporting useful information for easy retriefal during analysis of other datasets"
   ]
  },
  {
   "cell_type": "markdown",
   "metadata": {},
   "source": [
    "Creating a dictionary mapping the unique `nconst` identifier to an individual's name and saving it as a pickle:"
   ]
  },
  {
   "cell_type": "code",
   "execution_count": 22,
   "metadata": {},
   "outputs": [],
   "source": [
    "nconst_name = {nconst: name for nconst, name in zip(name_basics.index, name_basics['primaryName'])}"
   ]
  },
  {
   "cell_type": "code",
   "execution_count": 23,
   "metadata": {},
   "outputs": [
    {
     "data": {
      "text/plain": [
       "'Johnny Depp'"
      ]
     },
     "execution_count": 23,
     "metadata": {},
     "output_type": "execute_result"
    }
   ],
   "source": [
    "nconst_name['nm0000136']"
   ]
  },
  {
   "cell_type": "code",
   "execution_count": 24,
   "metadata": {},
   "outputs": [],
   "source": [
    "pickle.dump(nconst_name, open('../pickles/nconst_name.p', 'wb'))"
   ]
  }
 ],
 "metadata": {
  "kernelspec": {
   "display_name": "Python 3",
   "language": "python",
   "name": "python3"
  },
  "language_info": {
   "codemirror_mode": {
    "name": "ipython",
    "version": 3
   },
   "file_extension": ".py",
   "mimetype": "text/x-python",
   "name": "python",
   "nbconvert_exporter": "python",
   "pygments_lexer": "ipython3",
   "version": "3.8.3"
  }
 },
 "nbformat": 4,
 "nbformat_minor": 4
}
